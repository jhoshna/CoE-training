{
 "cells": [
  {
   "cell_type": "markdown",
   "metadata": {
    "id": "UbGp33eY741p"
   },
   "source": [
    "## Pandas Lab Exercise (Kaggle Automobile Dataset)\n",
    "\n",
    "We shall now test your skills in using Pandas package. We will be using the [automobiles Dataset](https://www.kaggle.com/nisargpatel/automobiles/data) from Kaggle. \n",
    "\n",
    "Answer each question asked below wrt the automobiles dataset. Load pandas as pd and upload the Automobile.csv file as auto"
   ]
  },
  {
   "cell_type": "code",
   "execution_count": 3,
   "metadata": {
    "id": "PBlq1VGW741u"
   },
   "outputs": [],
   "source": [
    "import pandas as pd"
   ]
  },
  {
   "cell_type": "markdown",
   "metadata": {
    "id": "DaOkloFo741z"
   },
   "source": [
    "**Load the Automobile dataset into variable \"auto\"**"
   ]
  },
  {
   "cell_type": "code",
   "execution_count": 5,
   "metadata": {
    "id": "SbgXY9P67410"
   },
   "outputs": [],
   "source": [
    "auto=pd.read_csv(r\"C:\\Users\\jhosh\\Downloads\\Automobile.csv\")"
   ]
  },
  {
   "cell_type": "markdown",
   "metadata": {
    "id": "Ojz2p4tA7412"
   },
   "source": [
    "**Check the head of the DataFrame.**"
   ]
  },
  {
   "cell_type": "code",
   "execution_count": 7,
   "metadata": {
    "colab": {
     "base_uri": "https://localhost:8080/",
     "height": 294
    },
    "id": "SkS94Img7413",
    "outputId": "94929b1c-b6c3-4e3b-e96f-96f32f7dfc3c"
   },
   "outputs": [
    {
     "data": {
      "text/html": [
       "<div>\n",
       "<style scoped>\n",
       "    .dataframe tbody tr th:only-of-type {\n",
       "        vertical-align: middle;\n",
       "    }\n",
       "\n",
       "    .dataframe tbody tr th {\n",
       "        vertical-align: top;\n",
       "    }\n",
       "\n",
       "    .dataframe thead th {\n",
       "        text-align: right;\n",
       "    }\n",
       "</style>\n",
       "<table border=\"1\" class=\"dataframe\">\n",
       "  <thead>\n",
       "    <tr style=\"text-align: right;\">\n",
       "      <th></th>\n",
       "      <th>symboling</th>\n",
       "      <th>normalized_losses</th>\n",
       "      <th>make</th>\n",
       "      <th>fuel_type</th>\n",
       "      <th>aspiration</th>\n",
       "      <th>number_of_doors</th>\n",
       "      <th>body_style</th>\n",
       "      <th>drive_wheels</th>\n",
       "      <th>engine_location</th>\n",
       "      <th>wheel_base</th>\n",
       "      <th>...</th>\n",
       "      <th>engine_size</th>\n",
       "      <th>fuel_system</th>\n",
       "      <th>bore</th>\n",
       "      <th>stroke</th>\n",
       "      <th>compression_ratio</th>\n",
       "      <th>horsepower</th>\n",
       "      <th>peak_rpm</th>\n",
       "      <th>city_mpg</th>\n",
       "      <th>highway_mpg</th>\n",
       "      <th>price</th>\n",
       "    </tr>\n",
       "  </thead>\n",
       "  <tbody>\n",
       "    <tr>\n",
       "      <th>0</th>\n",
       "      <td>3</td>\n",
       "      <td>168</td>\n",
       "      <td>alfa-romero</td>\n",
       "      <td>gas</td>\n",
       "      <td>std</td>\n",
       "      <td>two</td>\n",
       "      <td>convertible</td>\n",
       "      <td>rwd</td>\n",
       "      <td>front</td>\n",
       "      <td>88.6</td>\n",
       "      <td>...</td>\n",
       "      <td>130</td>\n",
       "      <td>mpfi</td>\n",
       "      <td>3.47</td>\n",
       "      <td>2.68</td>\n",
       "      <td>9.0</td>\n",
       "      <td>111</td>\n",
       "      <td>5000</td>\n",
       "      <td>21</td>\n",
       "      <td>27</td>\n",
       "      <td>13495</td>\n",
       "    </tr>\n",
       "    <tr>\n",
       "      <th>1</th>\n",
       "      <td>3</td>\n",
       "      <td>168</td>\n",
       "      <td>alfa-romero</td>\n",
       "      <td>gas</td>\n",
       "      <td>std</td>\n",
       "      <td>two</td>\n",
       "      <td>convertible</td>\n",
       "      <td>rwd</td>\n",
       "      <td>front</td>\n",
       "      <td>88.6</td>\n",
       "      <td>...</td>\n",
       "      <td>130</td>\n",
       "      <td>mpfi</td>\n",
       "      <td>3.47</td>\n",
       "      <td>2.68</td>\n",
       "      <td>9.0</td>\n",
       "      <td>111</td>\n",
       "      <td>5000</td>\n",
       "      <td>21</td>\n",
       "      <td>27</td>\n",
       "      <td>16500</td>\n",
       "    </tr>\n",
       "    <tr>\n",
       "      <th>2</th>\n",
       "      <td>1</td>\n",
       "      <td>168</td>\n",
       "      <td>alfa-romero</td>\n",
       "      <td>gas</td>\n",
       "      <td>std</td>\n",
       "      <td>two</td>\n",
       "      <td>hatchback</td>\n",
       "      <td>rwd</td>\n",
       "      <td>front</td>\n",
       "      <td>94.5</td>\n",
       "      <td>...</td>\n",
       "      <td>152</td>\n",
       "      <td>mpfi</td>\n",
       "      <td>2.68</td>\n",
       "      <td>3.47</td>\n",
       "      <td>9.0</td>\n",
       "      <td>154</td>\n",
       "      <td>5000</td>\n",
       "      <td>19</td>\n",
       "      <td>26</td>\n",
       "      <td>16500</td>\n",
       "    </tr>\n",
       "    <tr>\n",
       "      <th>3</th>\n",
       "      <td>2</td>\n",
       "      <td>164</td>\n",
       "      <td>audi</td>\n",
       "      <td>gas</td>\n",
       "      <td>std</td>\n",
       "      <td>four</td>\n",
       "      <td>sedan</td>\n",
       "      <td>fwd</td>\n",
       "      <td>front</td>\n",
       "      <td>99.8</td>\n",
       "      <td>...</td>\n",
       "      <td>109</td>\n",
       "      <td>mpfi</td>\n",
       "      <td>3.19</td>\n",
       "      <td>3.40</td>\n",
       "      <td>10.0</td>\n",
       "      <td>102</td>\n",
       "      <td>5500</td>\n",
       "      <td>24</td>\n",
       "      <td>30</td>\n",
       "      <td>13950</td>\n",
       "    </tr>\n",
       "    <tr>\n",
       "      <th>4</th>\n",
       "      <td>2</td>\n",
       "      <td>164</td>\n",
       "      <td>audi</td>\n",
       "      <td>gas</td>\n",
       "      <td>std</td>\n",
       "      <td>four</td>\n",
       "      <td>sedan</td>\n",
       "      <td>4wd</td>\n",
       "      <td>front</td>\n",
       "      <td>99.4</td>\n",
       "      <td>...</td>\n",
       "      <td>136</td>\n",
       "      <td>mpfi</td>\n",
       "      <td>3.19</td>\n",
       "      <td>3.40</td>\n",
       "      <td>8.0</td>\n",
       "      <td>115</td>\n",
       "      <td>5500</td>\n",
       "      <td>18</td>\n",
       "      <td>22</td>\n",
       "      <td>17450</td>\n",
       "    </tr>\n",
       "  </tbody>\n",
       "</table>\n",
       "<p>5 rows × 26 columns</p>\n",
       "</div>"
      ],
      "text/plain": [
       "   symboling  normalized_losses         make fuel_type aspiration  \\\n",
       "0          3                168  alfa-romero       gas        std   \n",
       "1          3                168  alfa-romero       gas        std   \n",
       "2          1                168  alfa-romero       gas        std   \n",
       "3          2                164         audi       gas        std   \n",
       "4          2                164         audi       gas        std   \n",
       "\n",
       "  number_of_doors   body_style drive_wheels engine_location  wheel_base  ...  \\\n",
       "0             two  convertible          rwd           front        88.6  ...   \n",
       "1             two  convertible          rwd           front        88.6  ...   \n",
       "2             two    hatchback          rwd           front        94.5  ...   \n",
       "3            four        sedan          fwd           front        99.8  ...   \n",
       "4            four        sedan          4wd           front        99.4  ...   \n",
       "\n",
       "   engine_size  fuel_system  bore  stroke compression_ratio horsepower  \\\n",
       "0          130         mpfi  3.47    2.68               9.0        111   \n",
       "1          130         mpfi  3.47    2.68               9.0        111   \n",
       "2          152         mpfi  2.68    3.47               9.0        154   \n",
       "3          109         mpfi  3.19    3.40              10.0        102   \n",
       "4          136         mpfi  3.19    3.40               8.0        115   \n",
       "\n",
       "   peak_rpm city_mpg  highway_mpg  price  \n",
       "0      5000       21           27  13495  \n",
       "1      5000       21           27  16500  \n",
       "2      5000       19           26  16500  \n",
       "3      5500       24           30  13950  \n",
       "4      5500       18           22  17450  \n",
       "\n",
       "[5 rows x 26 columns]"
      ]
     },
     "execution_count": 7,
     "metadata": {},
     "output_type": "execute_result"
    }
   ],
   "source": [
    "auto.head()"
   ]
  },
  {
   "cell_type": "markdown",
   "metadata": {
    "id": "L1Hzw3tB7416"
   },
   "source": [
    "**How many rows and columns are there?**"
   ]
  },
  {
   "cell_type": "code",
   "execution_count": 9,
   "metadata": {
    "colab": {
     "base_uri": "https://localhost:8080/"
    },
    "id": "wVRt3ZKM7416",
    "outputId": "b48da0eb-5a24-45bc-d673-a59a429b0d60"
   },
   "outputs": [
    {
     "data": {
      "text/plain": [
       "(201, 26)"
      ]
     },
     "execution_count": 9,
     "metadata": {},
     "output_type": "execute_result"
    }
   ],
   "source": [
    "auto.shape"
   ]
  },
  {
   "cell_type": "code",
   "execution_count": null,
   "metadata": {
    "colab": {
     "base_uri": "https://localhost:8080/"
    },
    "id": "yq-n7WTn83lo",
    "outputId": "9bd07a59-1979-4879-9137-efb21b969d93"
   },
   "outputs": [],
   "source": []
  },
  {
   "cell_type": "markdown",
   "metadata": {
    "id": "ddFGs8707419"
   },
   "source": [
    "**What is the average Price of all cars in the dataset?**"
   ]
  },
  {
   "cell_type": "code",
   "execution_count": 11,
   "metadata": {
    "colab": {
     "base_uri": "https://localhost:8080/"
    },
    "id": "hl4I6xd-7419",
    "outputId": "49ef1721-b305-4029-d5cb-0952c0ff548a"
   },
   "outputs": [
    {
     "data": {
      "text/plain": [
       "make\n",
       "alfa-romero      15498.333333\n",
       "audi             17859.166667\n",
       "bmw              26118.750000\n",
       "chevrolet         6007.000000\n",
       "dodge             7875.444444\n",
       "honda             8184.692308\n",
       "isuzu             8916.500000\n",
       "jaguar           34600.000000\n",
       "mazda            10652.882353\n",
       "mercedes-benz    33647.000000\n",
       "mercury          16503.000000\n",
       "mitsubishi        9239.769231\n",
       "nissan           10415.666667\n",
       "peugot           15489.090909\n",
       "plymouth          7963.428571\n",
       "porsche          31400.500000\n",
       "renault           9595.000000\n",
       "saab             15223.333333\n",
       "subaru            8541.250000\n",
       "toyota            9885.812500\n",
       "volkswagen       10077.500000\n",
       "volvo            18063.181818\n",
       "Name: price, dtype: float64"
      ]
     },
     "execution_count": 11,
     "metadata": {},
     "output_type": "execute_result"
    }
   ],
   "source": [
    "avg = auto.groupby('make')['price'].mean()\n",
    "avg"
   ]
  },
  {
   "cell_type": "markdown",
   "metadata": {
    "id": "zdJWY8G2742A"
   },
   "source": [
    "**Which is the cheapest make and costliest make of car in the lot?**"
   ]
  },
  {
   "cell_type": "code",
   "execution_count": 170,
   "metadata": {
    "colab": {
     "base_uri": "https://localhost:8080/"
    },
    "id": "rC_xmcM7742A",
    "outputId": "2cb6c3d9-8ea0-4031-b528-c0dbf77411ef"
   },
   "outputs": [
    {
     "data": {
      "text/plain": [
       "'subaru'"
      ]
     },
     "execution_count": 170,
     "metadata": {},
     "output_type": "execute_result"
    }
   ],
   "source": [
    "cheapest_car = auto.loc[auto['price'].idxmin()]\n",
    "cheapest_car['make']"
   ]
  },
  {
   "cell_type": "code",
   "execution_count": 178,
   "metadata": {
    "colab": {
     "base_uri": "https://localhost:8080/"
    },
    "id": "bxoYL21Y742D",
    "outputId": "b0928a0e-976f-44d8-b294-205ae633a1d9"
   },
   "outputs": [
    {
     "data": {
      "text/plain": [
       "'mercedes-benz'"
      ]
     },
     "execution_count": 178,
     "metadata": {},
     "output_type": "execute_result"
    }
   ],
   "source": [
    "costliest_car = auto.loc[auto['price'].idxmax()]\n",
    "costliest_car['make']"
   ]
  },
  {
   "cell_type": "markdown",
   "metadata": {
    "id": "xMvmHC-N742F"
   },
   "source": [
    "**How many cars have horsepower greater than 100?**"
   ]
  },
  {
   "cell_type": "code",
   "execution_count": 31,
   "metadata": {
    "colab": {
     "base_uri": "https://localhost:8080/"
    },
    "id": "TiVs0ipq742G",
    "outputId": "02f7760f-7464-4def-a586-924e179d811c"
   },
   "outputs": [
    {
     "data": {
      "text/plain": [
       "4"
      ]
     },
     "execution_count": 31,
     "metadata": {},
     "output_type": "execute_result"
    }
   ],
   "source": [
    "greater = auto[auto['horsepower']>200]\n",
    "count=len(greater)\n",
    "count"
   ]
  },
  {
   "cell_type": "markdown",
   "metadata": {
    "id": "BxCVZJNC742I"
   },
   "source": [
    "**How many hatchback cars are in the dataset ?**"
   ]
  },
  {
   "cell_type": "code",
   "execution_count": 41,
   "metadata": {
    "colab": {
     "base_uri": "https://localhost:8080/"
    },
    "id": "9LrFtDpF742J",
    "outputId": "df705384-2eb6-4b38-d511-3312cfe8c4e2"
   },
   "outputs": [
    {
     "data": {
      "text/plain": [
       "68"
      ]
     },
     "execution_count": 41,
     "metadata": {},
     "output_type": "execute_result"
    }
   ],
   "source": [
    "cars = auto[auto['body_style']=='hatchback']\n",
    "count=len(cars)\n",
    "count"
   ]
  },
  {
   "cell_type": "code",
   "execution_count": null,
   "metadata": {
    "colab": {
     "base_uri": "https://localhost:8080/"
    },
    "id": "nbr6QnTL-KmC",
    "outputId": "485d46bb-0101-4842-b28f-7f6ac0a7bab1"
   },
   "outputs": [],
   "source": []
  },
  {
   "cell_type": "markdown",
   "metadata": {
    "id": "BRLWunmC742L"
   },
   "source": [
    "**What are the 3 most commonly found cars in the dataset?**"
   ]
  },
  {
   "cell_type": "code",
   "execution_count": 49,
   "metadata": {
    "colab": {
     "base_uri": "https://localhost:8080/"
    },
    "id": "kS4gRLhB742M",
    "outputId": "0d7bb2f6-0ef5-4793-e309-b6953bd6dd67"
   },
   "outputs": [
    {
     "data": {
      "text/plain": [
       "make\n",
       "toyota    32\n",
       "nissan    18\n",
       "mazda     17\n",
       "Name: count, dtype: int64"
      ]
     },
     "execution_count": 49,
     "metadata": {},
     "output_type": "execute_result"
    }
   ],
   "source": [
    "car_counts=auto['make'].value_counts()\n",
    "top_cars=car_counts.head(3)\n",
    "top_cars"
   ]
  },
  {
   "cell_type": "code",
   "execution_count": null,
   "metadata": {
    "colab": {
     "base_uri": "https://localhost:8080/"
    },
    "id": "Js2slKSz-Z3T",
    "outputId": "2d9d8d27-d20e-4a74-d774-b2aa8a433321"
   },
   "outputs": [],
   "source": []
  },
  {
   "cell_type": "markdown",
   "metadata": {
    "id": "soDyFoWf742O"
   },
   "source": [
    "**Someone purchased a car for 7099, what is the make of the car?**"
   ]
  },
  {
   "cell_type": "code",
   "execution_count": 105,
   "metadata": {
    "colab": {
     "base_uri": "https://localhost:8080/"
    },
    "id": "X6lrqVpq742O",
    "outputId": "64ce0c5c-4232-4bcf-c93d-38d30aff443d"
   },
   "outputs": [
    {
     "data": {
      "text/html": [
       "<div>\n",
       "<style scoped>\n",
       "    .dataframe tbody tr th:only-of-type {\n",
       "        vertical-align: middle;\n",
       "    }\n",
       "\n",
       "    .dataframe tbody tr th {\n",
       "        vertical-align: top;\n",
       "    }\n",
       "\n",
       "    .dataframe thead th {\n",
       "        text-align: right;\n",
       "    }\n",
       "</style>\n",
       "<table border=\"1\" class=\"dataframe\">\n",
       "  <thead>\n",
       "    <tr style=\"text-align: right;\">\n",
       "      <th></th>\n",
       "      <th>make</th>\n",
       "    </tr>\n",
       "  </thead>\n",
       "  <tbody>\n",
       "    <tr>\n",
       "      <th>87</th>\n",
       "      <td>nissan</td>\n",
       "    </tr>\n",
       "  </tbody>\n",
       "</table>\n",
       "</div>"
      ],
      "text/plain": [
       "      make\n",
       "87  nissan"
      ]
     },
     "execution_count": 105,
     "metadata": {},
     "output_type": "execute_result"
    }
   ],
   "source": [
    "cost=auto[auto['price']==7099]\n",
    "cost[['make']]"
   ]
  },
  {
   "cell_type": "markdown",
   "metadata": {
    "id": "Dm97KFVj742T"
   },
   "source": [
    "**Which cars are priced greater than 40000?**"
   ]
  },
  {
   "cell_type": "code",
   "execution_count": 103,
   "metadata": {
    "colab": {
     "base_uri": "https://localhost:8080/"
    },
    "id": "KDsWpiuy742T",
    "outputId": "0f179fea-9e70-4371-a148-cf420b9d8f2b"
   },
   "outputs": [
    {
     "data": {
      "text/html": [
       "<div>\n",
       "<style scoped>\n",
       "    .dataframe tbody tr th:only-of-type {\n",
       "        vertical-align: middle;\n",
       "    }\n",
       "\n",
       "    .dataframe tbody tr th {\n",
       "        vertical-align: top;\n",
       "    }\n",
       "\n",
       "    .dataframe thead th {\n",
       "        text-align: right;\n",
       "    }\n",
       "</style>\n",
       "<table border=\"1\" class=\"dataframe\">\n",
       "  <thead>\n",
       "    <tr style=\"text-align: right;\">\n",
       "      <th></th>\n",
       "      <th>make</th>\n",
       "    </tr>\n",
       "  </thead>\n",
       "  <tbody>\n",
       "    <tr>\n",
       "      <th>15</th>\n",
       "      <td>bmw</td>\n",
       "    </tr>\n",
       "    <tr>\n",
       "      <th>70</th>\n",
       "      <td>mercedes-benz</td>\n",
       "    </tr>\n",
       "    <tr>\n",
       "      <th>71</th>\n",
       "      <td>mercedes-benz</td>\n",
       "    </tr>\n",
       "  </tbody>\n",
       "</table>\n",
       "</div>"
      ],
      "text/plain": [
       "             make\n",
       "15            bmw\n",
       "70  mercedes-benz\n",
       "71  mercedes-benz"
      ]
     },
     "execution_count": 103,
     "metadata": {},
     "output_type": "execute_result"
    }
   ],
   "source": [
    "cost=auto[auto['price']>40000]\n",
    "cost[['make']]"
   ]
  },
  {
   "cell_type": "markdown",
   "metadata": {
    "id": "NNEkkEPY742X"
   },
   "source": [
    "**Which are the cars that are both a sedan and priced less than 7000?**"
   ]
  },
  {
   "cell_type": "code",
   "execution_count": 101,
   "metadata": {
    "colab": {
     "base_uri": "https://localhost:8080/"
    },
    "id": "XQ66ellN742X",
    "outputId": "c2e04298-24cf-40e5-b7ca-e95f9e8b35f3"
   },
   "outputs": [
    {
     "data": {
      "text/html": [
       "<div>\n",
       "<style scoped>\n",
       "    .dataframe tbody tr th:only-of-type {\n",
       "        vertical-align: middle;\n",
       "    }\n",
       "\n",
       "    .dataframe tbody tr th {\n",
       "        vertical-align: top;\n",
       "    }\n",
       "\n",
       "    .dataframe thead th {\n",
       "        text-align: right;\n",
       "    }\n",
       "</style>\n",
       "<table border=\"1\" class=\"dataframe\">\n",
       "  <thead>\n",
       "    <tr style=\"text-align: right;\">\n",
       "      <th></th>\n",
       "      <th>make</th>\n",
       "    </tr>\n",
       "  </thead>\n",
       "  <tbody>\n",
       "    <tr>\n",
       "      <th>19</th>\n",
       "      <td>chevrolet</td>\n",
       "    </tr>\n",
       "    <tr>\n",
       "      <th>24</th>\n",
       "      <td>dodge</td>\n",
       "    </tr>\n",
       "    <tr>\n",
       "      <th>42</th>\n",
       "      <td>isuzu</td>\n",
       "    </tr>\n",
       "    <tr>\n",
       "      <th>50</th>\n",
       "      <td>mazda</td>\n",
       "    </tr>\n",
       "    <tr>\n",
       "      <th>82</th>\n",
       "      <td>mitsubishi</td>\n",
       "    </tr>\n",
       "    <tr>\n",
       "      <th>86</th>\n",
       "      <td>nissan</td>\n",
       "    </tr>\n",
       "    <tr>\n",
       "      <th>88</th>\n",
       "      <td>nissan</td>\n",
       "    </tr>\n",
       "    <tr>\n",
       "      <th>89</th>\n",
       "      <td>nissan</td>\n",
       "    </tr>\n",
       "    <tr>\n",
       "      <th>118</th>\n",
       "      <td>plymouth</td>\n",
       "    </tr>\n",
       "    <tr>\n",
       "      <th>152</th>\n",
       "      <td>toyota</td>\n",
       "    </tr>\n",
       "  </tbody>\n",
       "</table>\n",
       "</div>"
      ],
      "text/plain": [
       "           make\n",
       "19    chevrolet\n",
       "24        dodge\n",
       "42        isuzu\n",
       "50        mazda\n",
       "82   mitsubishi\n",
       "86       nissan\n",
       "88       nissan\n",
       "89       nissan\n",
       "118    plymouth\n",
       "152      toyota"
      ]
     },
     "execution_count": 101,
     "metadata": {},
     "output_type": "execute_result"
    }
   ],
   "source": [
    "cars=auto[(auto['body_style'] == 'sedan') & (auto['price']<7000)]\n",
    "cars[['make']]"
   ]
  },
  {
   "cell_type": "markdown",
   "metadata": {},
   "source": [
    " **Count the number of unique values in the `fuel_type` column.**"
   ]
  },
  {
   "cell_type": "code",
   "execution_count": 80,
   "metadata": {},
   "outputs": [
    {
     "data": {
      "text/plain": [
       "2"
      ]
     },
     "execution_count": 80,
     "metadata": {},
     "output_type": "execute_result"
    }
   ],
   "source": [
    "fuel=auto['fuel_type'].unique()\n",
    "count=len(fuel)\n",
    "count"
   ]
  },
  {
   "cell_type": "markdown",
   "metadata": {},
   "source": [
    "**List all the cars that have a horsepower between 100 and 200, and display their `make`, `horsepower`, and `price`.**"
   ]
  },
  {
   "cell_type": "code",
   "execution_count": 99,
   "metadata": {},
   "outputs": [
    {
     "data": {
      "text/html": [
       "<div>\n",
       "<style scoped>\n",
       "    .dataframe tbody tr th:only-of-type {\n",
       "        vertical-align: middle;\n",
       "    }\n",
       "\n",
       "    .dataframe tbody tr th {\n",
       "        vertical-align: top;\n",
       "    }\n",
       "\n",
       "    .dataframe thead th {\n",
       "        text-align: right;\n",
       "    }\n",
       "</style>\n",
       "<table border=\"1\" class=\"dataframe\">\n",
       "  <thead>\n",
       "    <tr style=\"text-align: right;\">\n",
       "      <th></th>\n",
       "      <th>make</th>\n",
       "      <th>horsepower</th>\n",
       "      <th>price</th>\n",
       "    </tr>\n",
       "  </thead>\n",
       "  <tbody>\n",
       "    <tr>\n",
       "      <th>0</th>\n",
       "      <td>alfa-romero</td>\n",
       "      <td>111</td>\n",
       "      <td>13495</td>\n",
       "    </tr>\n",
       "    <tr>\n",
       "      <th>1</th>\n",
       "      <td>alfa-romero</td>\n",
       "      <td>111</td>\n",
       "      <td>16500</td>\n",
       "    </tr>\n",
       "    <tr>\n",
       "      <th>2</th>\n",
       "      <td>alfa-romero</td>\n",
       "      <td>154</td>\n",
       "      <td>16500</td>\n",
       "    </tr>\n",
       "    <tr>\n",
       "      <th>3</th>\n",
       "      <td>audi</td>\n",
       "      <td>102</td>\n",
       "      <td>13950</td>\n",
       "    </tr>\n",
       "    <tr>\n",
       "      <th>4</th>\n",
       "      <td>audi</td>\n",
       "      <td>115</td>\n",
       "      <td>17450</td>\n",
       "    </tr>\n",
       "    <tr>\n",
       "      <th>...</th>\n",
       "      <td>...</td>\n",
       "      <td>...</td>\n",
       "      <td>...</td>\n",
       "    </tr>\n",
       "    <tr>\n",
       "      <th>196</th>\n",
       "      <td>volvo</td>\n",
       "      <td>114</td>\n",
       "      <td>16845</td>\n",
       "    </tr>\n",
       "    <tr>\n",
       "      <th>197</th>\n",
       "      <td>volvo</td>\n",
       "      <td>160</td>\n",
       "      <td>19045</td>\n",
       "    </tr>\n",
       "    <tr>\n",
       "      <th>198</th>\n",
       "      <td>volvo</td>\n",
       "      <td>134</td>\n",
       "      <td>21485</td>\n",
       "    </tr>\n",
       "    <tr>\n",
       "      <th>199</th>\n",
       "      <td>volvo</td>\n",
       "      <td>106</td>\n",
       "      <td>22470</td>\n",
       "    </tr>\n",
       "    <tr>\n",
       "      <th>200</th>\n",
       "      <td>volvo</td>\n",
       "      <td>114</td>\n",
       "      <td>22625</td>\n",
       "    </tr>\n",
       "  </tbody>\n",
       "</table>\n",
       "<p>85 rows × 3 columns</p>\n",
       "</div>"
      ],
      "text/plain": [
       "            make  horsepower  price\n",
       "0    alfa-romero         111  13495\n",
       "1    alfa-romero         111  16500\n",
       "2    alfa-romero         154  16500\n",
       "3           audi         102  13950\n",
       "4           audi         115  17450\n",
       "..           ...         ...    ...\n",
       "196        volvo         114  16845\n",
       "197        volvo         160  19045\n",
       "198        volvo         134  21485\n",
       "199        volvo         106  22470\n",
       "200        volvo         114  22625\n",
       "\n",
       "[85 rows x 3 columns]"
      ]
     },
     "execution_count": 99,
     "metadata": {},
     "output_type": "execute_result"
    }
   ],
   "source": [
    "cars=auto[(auto['horsepower']>100) & (auto['horsepower']<200)]\n",
    "cars[['make','horsepower','price']]"
   ]
  },
  {
   "cell_type": "markdown",
   "metadata": {},
   "source": [
    "**Find the average `city_mpg` and `highway_mpg` for each `body_style`.**"
   ]
  },
  {
   "cell_type": "code",
   "execution_count": 107,
   "metadata": {},
   "outputs": [
    {
     "data": {
      "text/plain": [
       "body_style\n",
       "convertible    20.500000\n",
       "hardtop        21.625000\n",
       "hatchback      26.602941\n",
       "sedan          25.053191\n",
       "wagon          24.040000\n",
       "Name: city_mpg, dtype: float64"
      ]
     },
     "execution_count": 107,
     "metadata": {},
     "output_type": "execute_result"
    }
   ],
   "source": [
    "avg_city_mpg=auto.groupby('body_style')['city_mpg'].mean()\n",
    "avg_city_mpg"
   ]
  },
  {
   "cell_type": "code",
   "execution_count": 111,
   "metadata": {},
   "outputs": [
    {
     "data": {
      "text/plain": [
       "body_style\n",
       "convertible    26.000000\n",
       "hardtop        27.250000\n",
       "hatchback      32.382353\n",
       "sedan          30.574468\n",
       "wagon          28.720000\n",
       "Name: highway_mpg, dtype: float64"
      ]
     },
     "execution_count": 111,
     "metadata": {},
     "output_type": "execute_result"
    }
   ],
   "source": [
    "avg_highway_mpg=auto.groupby('body_style')['highway_mpg'].mean()\n",
    "avg_highway_mpg"
   ]
  },
  {
   "cell_type": "markdown",
   "metadata": {},
   "source": [
    "**What is the median `price` for each `make`?**"
   ]
  },
  {
   "cell_type": "code",
   "execution_count": 117,
   "metadata": {},
   "outputs": [
    {
     "data": {
      "text/plain": [
       "make\n",
       "alfa-romero      16500.0\n",
       "audi             17580.0\n",
       "bmw              22835.0\n",
       "chevrolet         6295.0\n",
       "dodge             7609.0\n",
       "honda             7295.0\n",
       "isuzu             8916.5\n",
       "jaguar           35550.0\n",
       "mazda            10595.0\n",
       "mercedes-benz    32892.0\n",
       "mercury          16503.0\n",
       "mitsubishi        8499.0\n",
       "nissan            8124.0\n",
       "peugot           16630.0\n",
       "plymouth          7609.0\n",
       "porsche          33278.0\n",
       "renault           9595.0\n",
       "saab             15275.0\n",
       "subaru            7894.0\n",
       "toyota            9103.0\n",
       "volkswagen        9737.5\n",
       "volvo            18420.0\n",
       "Name: price, dtype: float64"
      ]
     },
     "execution_count": 117,
     "metadata": {},
     "output_type": "execute_result"
    }
   ],
   "source": [
    "cars=auto.groupby('make')['price'].median()\n",
    "cars"
   ]
  },
  {
   "cell_type": "markdown",
   "metadata": {},
   "source": [
    "**List all cars that have a `wheel_base` greater than 100 and a `curb_weight` less than 2500.**"
   ]
  },
  {
   "cell_type": "code",
   "execution_count": 121,
   "metadata": {},
   "outputs": [
    {
     "data": {
      "text/html": [
       "<div>\n",
       "<style scoped>\n",
       "    .dataframe tbody tr th:only-of-type {\n",
       "        vertical-align: middle;\n",
       "    }\n",
       "\n",
       "    .dataframe tbody tr th {\n",
       "        vertical-align: top;\n",
       "    }\n",
       "\n",
       "    .dataframe thead th {\n",
       "        text-align: right;\n",
       "    }\n",
       "</style>\n",
       "<table border=\"1\" class=\"dataframe\">\n",
       "  <thead>\n",
       "    <tr style=\"text-align: right;\">\n",
       "      <th></th>\n",
       "      <th>make</th>\n",
       "    </tr>\n",
       "  </thead>\n",
       "  <tbody>\n",
       "    <tr>\n",
       "      <th>9</th>\n",
       "      <td>bmw</td>\n",
       "    </tr>\n",
       "    <tr>\n",
       "      <th>10</th>\n",
       "      <td>bmw</td>\n",
       "    </tr>\n",
       "    <tr>\n",
       "      <th>169</th>\n",
       "      <td>toyota</td>\n",
       "    </tr>\n",
       "    <tr>\n",
       "      <th>170</th>\n",
       "      <td>toyota</td>\n",
       "    </tr>\n",
       "    <tr>\n",
       "      <th>171</th>\n",
       "      <td>toyota</td>\n",
       "    </tr>\n",
       "    <tr>\n",
       "      <th>172</th>\n",
       "      <td>toyota</td>\n",
       "    </tr>\n",
       "    <tr>\n",
       "      <th>173</th>\n",
       "      <td>toyota</td>\n",
       "    </tr>\n",
       "  </tbody>\n",
       "</table>\n",
       "</div>"
      ],
      "text/plain": [
       "       make\n",
       "9       bmw\n",
       "10      bmw\n",
       "169  toyota\n",
       "170  toyota\n",
       "171  toyota\n",
       "172  toyota\n",
       "173  toyota"
      ]
     },
     "execution_count": 121,
     "metadata": {},
     "output_type": "execute_result"
    }
   ],
   "source": [
    "cars=auto[(auto['wheel_base']>100) & (auto['curb_weight']<2500)]\n",
    "cars[['make']]"
   ]
  },
  {
   "cell_type": "markdown",
   "metadata": {},
   "source": [
    "**Create a new column `price_per_hp` that calculates the price of the car per horsepower.**"
   ]
  },
  {
   "cell_type": "code",
   "execution_count": 125,
   "metadata": {},
   "outputs": [
    {
     "data": {
      "text/html": [
       "<div>\n",
       "<style scoped>\n",
       "    .dataframe tbody tr th:only-of-type {\n",
       "        vertical-align: middle;\n",
       "    }\n",
       "\n",
       "    .dataframe tbody tr th {\n",
       "        vertical-align: top;\n",
       "    }\n",
       "\n",
       "    .dataframe thead th {\n",
       "        text-align: right;\n",
       "    }\n",
       "</style>\n",
       "<table border=\"1\" class=\"dataframe\">\n",
       "  <thead>\n",
       "    <tr style=\"text-align: right;\">\n",
       "      <th></th>\n",
       "      <th>symboling</th>\n",
       "      <th>normalized_losses</th>\n",
       "      <th>wheel_base</th>\n",
       "      <th>length</th>\n",
       "      <th>width</th>\n",
       "      <th>height</th>\n",
       "      <th>curb_weight</th>\n",
       "      <th>engine_size</th>\n",
       "      <th>bore</th>\n",
       "      <th>stroke</th>\n",
       "      <th>compression_ratio</th>\n",
       "      <th>horsepower</th>\n",
       "      <th>peak_rpm</th>\n",
       "      <th>city_mpg</th>\n",
       "      <th>highway_mpg</th>\n",
       "      <th>price</th>\n",
       "      <th>price_per_hp</th>\n",
       "    </tr>\n",
       "  </thead>\n",
       "  <tbody>\n",
       "    <tr>\n",
       "      <th>count</th>\n",
       "      <td>201.000000</td>\n",
       "      <td>201.000000</td>\n",
       "      <td>201.000000</td>\n",
       "      <td>201.000000</td>\n",
       "      <td>201.000000</td>\n",
       "      <td>201.000000</td>\n",
       "      <td>201.000000</td>\n",
       "      <td>201.000000</td>\n",
       "      <td>201.000000</td>\n",
       "      <td>201.000000</td>\n",
       "      <td>201.000000</td>\n",
       "      <td>201.000000</td>\n",
       "      <td>201.000000</td>\n",
       "      <td>201.000000</td>\n",
       "      <td>201.000000</td>\n",
       "      <td>201.000000</td>\n",
       "      <td>201.000000</td>\n",
       "    </tr>\n",
       "    <tr>\n",
       "      <th>mean</th>\n",
       "      <td>0.840796</td>\n",
       "      <td>125.189055</td>\n",
       "      <td>98.797015</td>\n",
       "      <td>174.200995</td>\n",
       "      <td>65.889055</td>\n",
       "      <td>53.766667</td>\n",
       "      <td>2555.666667</td>\n",
       "      <td>126.875622</td>\n",
       "      <td>3.329701</td>\n",
       "      <td>3.261741</td>\n",
       "      <td>10.164279</td>\n",
       "      <td>103.263682</td>\n",
       "      <td>5121.393035</td>\n",
       "      <td>25.179104</td>\n",
       "      <td>30.686567</td>\n",
       "      <td>13207.129353</td>\n",
       "      <td>123.301539</td>\n",
       "    </tr>\n",
       "    <tr>\n",
       "      <th>std</th>\n",
       "      <td>1.254802</td>\n",
       "      <td>33.572966</td>\n",
       "      <td>6.066366</td>\n",
       "      <td>12.322175</td>\n",
       "      <td>2.101471</td>\n",
       "      <td>2.447822</td>\n",
       "      <td>517.296727</td>\n",
       "      <td>41.546834</td>\n",
       "      <td>0.268166</td>\n",
       "      <td>0.317875</td>\n",
       "      <td>4.004965</td>\n",
       "      <td>37.389372</td>\n",
       "      <td>479.624905</td>\n",
       "      <td>6.423220</td>\n",
       "      <td>6.815150</td>\n",
       "      <td>7947.066342</td>\n",
       "      <td>39.336183</td>\n",
       "    </tr>\n",
       "    <tr>\n",
       "      <th>min</th>\n",
       "      <td>-2.000000</td>\n",
       "      <td>65.000000</td>\n",
       "      <td>86.600000</td>\n",
       "      <td>141.100000</td>\n",
       "      <td>60.300000</td>\n",
       "      <td>47.800000</td>\n",
       "      <td>1488.000000</td>\n",
       "      <td>61.000000</td>\n",
       "      <td>2.540000</td>\n",
       "      <td>2.070000</td>\n",
       "      <td>7.000000</td>\n",
       "      <td>48.000000</td>\n",
       "      <td>4150.000000</td>\n",
       "      <td>13.000000</td>\n",
       "      <td>16.000000</td>\n",
       "      <td>5118.000000</td>\n",
       "      <td>72.836207</td>\n",
       "    </tr>\n",
       "    <tr>\n",
       "      <th>25%</th>\n",
       "      <td>0.000000</td>\n",
       "      <td>101.000000</td>\n",
       "      <td>94.500000</td>\n",
       "      <td>166.800000</td>\n",
       "      <td>64.100000</td>\n",
       "      <td>52.000000</td>\n",
       "      <td>2169.000000</td>\n",
       "      <td>98.000000</td>\n",
       "      <td>3.150000</td>\n",
       "      <td>3.110000</td>\n",
       "      <td>8.600000</td>\n",
       "      <td>70.000000</td>\n",
       "      <td>4800.000000</td>\n",
       "      <td>19.000000</td>\n",
       "      <td>25.000000</td>\n",
       "      <td>7775.000000</td>\n",
       "      <td>96.543103</td>\n",
       "    </tr>\n",
       "    <tr>\n",
       "      <th>50%</th>\n",
       "      <td>1.000000</td>\n",
       "      <td>122.000000</td>\n",
       "      <td>97.000000</td>\n",
       "      <td>173.200000</td>\n",
       "      <td>65.500000</td>\n",
       "      <td>54.100000</td>\n",
       "      <td>2414.000000</td>\n",
       "      <td>120.000000</td>\n",
       "      <td>3.310000</td>\n",
       "      <td>3.290000</td>\n",
       "      <td>9.000000</td>\n",
       "      <td>95.000000</td>\n",
       "      <td>5200.000000</td>\n",
       "      <td>24.000000</td>\n",
       "      <td>30.000000</td>\n",
       "      <td>10295.000000</td>\n",
       "      <td>110.542857</td>\n",
       "    </tr>\n",
       "    <tr>\n",
       "      <th>75%</th>\n",
       "      <td>2.000000</td>\n",
       "      <td>150.000000</td>\n",
       "      <td>102.400000</td>\n",
       "      <td>183.500000</td>\n",
       "      <td>66.600000</td>\n",
       "      <td>55.500000</td>\n",
       "      <td>2926.000000</td>\n",
       "      <td>141.000000</td>\n",
       "      <td>3.580000</td>\n",
       "      <td>3.460000</td>\n",
       "      <td>9.400000</td>\n",
       "      <td>116.000000</td>\n",
       "      <td>5500.000000</td>\n",
       "      <td>30.000000</td>\n",
       "      <td>34.000000</td>\n",
       "      <td>16500.000000</td>\n",
       "      <td>140.219298</td>\n",
       "    </tr>\n",
       "    <tr>\n",
       "      <th>max</th>\n",
       "      <td>3.000000</td>\n",
       "      <td>256.000000</td>\n",
       "      <td>120.900000</td>\n",
       "      <td>208.100000</td>\n",
       "      <td>72.000000</td>\n",
       "      <td>59.800000</td>\n",
       "      <td>4066.000000</td>\n",
       "      <td>326.000000</td>\n",
       "      <td>3.940000</td>\n",
       "      <td>4.170000</td>\n",
       "      <td>23.000000</td>\n",
       "      <td>262.000000</td>\n",
       "      <td>6600.000000</td>\n",
       "      <td>49.000000</td>\n",
       "      <td>54.000000</td>\n",
       "      <td>45400.000000</td>\n",
       "      <td>256.910569</td>\n",
       "    </tr>\n",
       "  </tbody>\n",
       "</table>\n",
       "</div>"
      ],
      "text/plain": [
       "        symboling  normalized_losses  wheel_base      length       width  \\\n",
       "count  201.000000         201.000000  201.000000  201.000000  201.000000   \n",
       "mean     0.840796         125.189055   98.797015  174.200995   65.889055   \n",
       "std      1.254802          33.572966    6.066366   12.322175    2.101471   \n",
       "min     -2.000000          65.000000   86.600000  141.100000   60.300000   \n",
       "25%      0.000000         101.000000   94.500000  166.800000   64.100000   \n",
       "50%      1.000000         122.000000   97.000000  173.200000   65.500000   \n",
       "75%      2.000000         150.000000  102.400000  183.500000   66.600000   \n",
       "max      3.000000         256.000000  120.900000  208.100000   72.000000   \n",
       "\n",
       "           height  curb_weight  engine_size        bore      stroke  \\\n",
       "count  201.000000   201.000000   201.000000  201.000000  201.000000   \n",
       "mean    53.766667  2555.666667   126.875622    3.329701    3.261741   \n",
       "std      2.447822   517.296727    41.546834    0.268166    0.317875   \n",
       "min     47.800000  1488.000000    61.000000    2.540000    2.070000   \n",
       "25%     52.000000  2169.000000    98.000000    3.150000    3.110000   \n",
       "50%     54.100000  2414.000000   120.000000    3.310000    3.290000   \n",
       "75%     55.500000  2926.000000   141.000000    3.580000    3.460000   \n",
       "max     59.800000  4066.000000   326.000000    3.940000    4.170000   \n",
       "\n",
       "       compression_ratio  horsepower     peak_rpm    city_mpg  highway_mpg  \\\n",
       "count         201.000000  201.000000   201.000000  201.000000   201.000000   \n",
       "mean           10.164279  103.263682  5121.393035   25.179104    30.686567   \n",
       "std             4.004965   37.389372   479.624905    6.423220     6.815150   \n",
       "min             7.000000   48.000000  4150.000000   13.000000    16.000000   \n",
       "25%             8.600000   70.000000  4800.000000   19.000000    25.000000   \n",
       "50%             9.000000   95.000000  5200.000000   24.000000    30.000000   \n",
       "75%             9.400000  116.000000  5500.000000   30.000000    34.000000   \n",
       "max            23.000000  262.000000  6600.000000   49.000000    54.000000   \n",
       "\n",
       "              price  price_per_hp  \n",
       "count    201.000000    201.000000  \n",
       "mean   13207.129353    123.301539  \n",
       "std     7947.066342     39.336183  \n",
       "min     5118.000000     72.836207  \n",
       "25%     7775.000000     96.543103  \n",
       "50%    10295.000000    110.542857  \n",
       "75%    16500.000000    140.219298  \n",
       "max    45400.000000    256.910569  "
      ]
     },
     "execution_count": 125,
     "metadata": {},
     "output_type": "execute_result"
    }
   ],
   "source": [
    "auto['price_per_hp']=auto['price']/auto['horsepower']\n",
    "auto.describe()"
   ]
  },
  {
   "cell_type": "markdown",
   "metadata": {},
   "source": [
    "**Count how many cars have a `number_of_doors` as `four`.**"
   ]
  },
  {
   "cell_type": "code",
   "execution_count": 135,
   "metadata": {},
   "outputs": [
    {
     "data": {
      "text/plain": [
       "114"
      ]
     },
     "execution_count": 135,
     "metadata": {},
     "output_type": "execute_result"
    }
   ],
   "source": [
    "cars=auto[auto['number_of_doors']=='four']\n",
    "count=len(cars)\n",
    "count"
   ]
  },
  {
   "cell_type": "markdown",
   "metadata": {},
   "source": [
    "**Find the top 5 cars based on their `highway_mpg` and `price`.**"
   ]
  },
  {
   "cell_type": "code",
   "execution_count": 154,
   "metadata": {},
   "outputs": [
    {
     "data": {
      "text/html": [
       "<div>\n",
       "<style scoped>\n",
       "    .dataframe tbody tr th:only-of-type {\n",
       "        vertical-align: middle;\n",
       "    }\n",
       "\n",
       "    .dataframe tbody tr th {\n",
       "        vertical-align: top;\n",
       "    }\n",
       "\n",
       "    .dataframe thead th {\n",
       "        text-align: right;\n",
       "    }\n",
       "</style>\n",
       "<table border=\"1\" class=\"dataframe\">\n",
       "  <thead>\n",
       "    <tr style=\"text-align: right;\">\n",
       "      <th></th>\n",
       "      <th>symboling</th>\n",
       "      <th>normalized_losses</th>\n",
       "      <th>make</th>\n",
       "      <th>fuel_type</th>\n",
       "      <th>aspiration</th>\n",
       "      <th>number_of_doors</th>\n",
       "      <th>body_style</th>\n",
       "      <th>drive_wheels</th>\n",
       "      <th>engine_location</th>\n",
       "      <th>wheel_base</th>\n",
       "      <th>...</th>\n",
       "      <th>fuel_system</th>\n",
       "      <th>bore</th>\n",
       "      <th>stroke</th>\n",
       "      <th>compression_ratio</th>\n",
       "      <th>horsepower</th>\n",
       "      <th>peak_rpm</th>\n",
       "      <th>city_mpg</th>\n",
       "      <th>highway_mpg</th>\n",
       "      <th>price</th>\n",
       "      <th>price_per_hp</th>\n",
       "    </tr>\n",
       "  </thead>\n",
       "  <tbody>\n",
       "    <tr>\n",
       "      <th>29</th>\n",
       "      <td>2</td>\n",
       "      <td>137</td>\n",
       "      <td>honda</td>\n",
       "      <td>gas</td>\n",
       "      <td>std</td>\n",
       "      <td>two</td>\n",
       "      <td>hatchback</td>\n",
       "      <td>fwd</td>\n",
       "      <td>front</td>\n",
       "      <td>86.6</td>\n",
       "      <td>...</td>\n",
       "      <td>1bbl</td>\n",
       "      <td>2.91</td>\n",
       "      <td>3.41</td>\n",
       "      <td>9.6</td>\n",
       "      <td>58</td>\n",
       "      <td>4800</td>\n",
       "      <td>49</td>\n",
       "      <td>54</td>\n",
       "      <td>6479</td>\n",
       "      <td>111.706897</td>\n",
       "    </tr>\n",
       "    <tr>\n",
       "      <th>17</th>\n",
       "      <td>2</td>\n",
       "      <td>121</td>\n",
       "      <td>chevrolet</td>\n",
       "      <td>gas</td>\n",
       "      <td>std</td>\n",
       "      <td>two</td>\n",
       "      <td>hatchback</td>\n",
       "      <td>fwd</td>\n",
       "      <td>front</td>\n",
       "      <td>88.4</td>\n",
       "      <td>...</td>\n",
       "      <td>2bbl</td>\n",
       "      <td>2.91</td>\n",
       "      <td>3.03</td>\n",
       "      <td>9.5</td>\n",
       "      <td>48</td>\n",
       "      <td>5100</td>\n",
       "      <td>47</td>\n",
       "      <td>53</td>\n",
       "      <td>5151</td>\n",
       "      <td>107.312500</td>\n",
       "    </tr>\n",
       "    <tr>\n",
       "      <th>87</th>\n",
       "      <td>1</td>\n",
       "      <td>128</td>\n",
       "      <td>nissan</td>\n",
       "      <td>diesel</td>\n",
       "      <td>std</td>\n",
       "      <td>two</td>\n",
       "      <td>sedan</td>\n",
       "      <td>fwd</td>\n",
       "      <td>front</td>\n",
       "      <td>94.5</td>\n",
       "      <td>...</td>\n",
       "      <td>idi</td>\n",
       "      <td>2.99</td>\n",
       "      <td>3.47</td>\n",
       "      <td>21.9</td>\n",
       "      <td>55</td>\n",
       "      <td>4800</td>\n",
       "      <td>45</td>\n",
       "      <td>50</td>\n",
       "      <td>7099</td>\n",
       "      <td>129.072727</td>\n",
       "    </tr>\n",
       "    <tr>\n",
       "      <th>155</th>\n",
       "      <td>0</td>\n",
       "      <td>91</td>\n",
       "      <td>toyota</td>\n",
       "      <td>diesel</td>\n",
       "      <td>std</td>\n",
       "      <td>four</td>\n",
       "      <td>hatchback</td>\n",
       "      <td>fwd</td>\n",
       "      <td>front</td>\n",
       "      <td>95.7</td>\n",
       "      <td>...</td>\n",
       "      <td>idi</td>\n",
       "      <td>3.27</td>\n",
       "      <td>3.35</td>\n",
       "      <td>22.5</td>\n",
       "      <td>56</td>\n",
       "      <td>4500</td>\n",
       "      <td>38</td>\n",
       "      <td>47</td>\n",
       "      <td>7788</td>\n",
       "      <td>139.071429</td>\n",
       "    </tr>\n",
       "    <tr>\n",
       "      <th>156</th>\n",
       "      <td>0</td>\n",
       "      <td>91</td>\n",
       "      <td>toyota</td>\n",
       "      <td>gas</td>\n",
       "      <td>std</td>\n",
       "      <td>four</td>\n",
       "      <td>sedan</td>\n",
       "      <td>fwd</td>\n",
       "      <td>front</td>\n",
       "      <td>95.7</td>\n",
       "      <td>...</td>\n",
       "      <td>2bbl</td>\n",
       "      <td>3.19</td>\n",
       "      <td>3.03</td>\n",
       "      <td>9.0</td>\n",
       "      <td>70</td>\n",
       "      <td>4800</td>\n",
       "      <td>38</td>\n",
       "      <td>47</td>\n",
       "      <td>7738</td>\n",
       "      <td>110.542857</td>\n",
       "    </tr>\n",
       "  </tbody>\n",
       "</table>\n",
       "<p>5 rows × 27 columns</p>\n",
       "</div>"
      ],
      "text/plain": [
       "     symboling  normalized_losses       make fuel_type aspiration  \\\n",
       "29           2                137      honda       gas        std   \n",
       "17           2                121  chevrolet       gas        std   \n",
       "87           1                128     nissan    diesel        std   \n",
       "155          0                 91     toyota    diesel        std   \n",
       "156          0                 91     toyota       gas        std   \n",
       "\n",
       "    number_of_doors body_style drive_wheels engine_location  wheel_base  ...  \\\n",
       "29              two  hatchback          fwd           front        86.6  ...   \n",
       "17              two  hatchback          fwd           front        88.4  ...   \n",
       "87              two      sedan          fwd           front        94.5  ...   \n",
       "155            four  hatchback          fwd           front        95.7  ...   \n",
       "156            four      sedan          fwd           front        95.7  ...   \n",
       "\n",
       "     fuel_system  bore  stroke  compression_ratio horsepower peak_rpm  \\\n",
       "29          1bbl  2.91    3.41                9.6         58     4800   \n",
       "17          2bbl  2.91    3.03                9.5         48     5100   \n",
       "87           idi  2.99    3.47               21.9         55     4800   \n",
       "155          idi  3.27    3.35               22.5         56     4500   \n",
       "156         2bbl  3.19    3.03                9.0         70     4800   \n",
       "\n",
       "     city_mpg highway_mpg  price  price_per_hp  \n",
       "29         49          54   6479    111.706897  \n",
       "17         47          53   5151    107.312500  \n",
       "87         45          50   7099    129.072727  \n",
       "155        38          47   7788    139.071429  \n",
       "156        38          47   7738    110.542857  \n",
       "\n",
       "[5 rows x 27 columns]"
      ]
     },
     "execution_count": 154,
     "metadata": {},
     "output_type": "execute_result"
    }
   ],
   "source": [
    "top_cars = auto.sort_values(by=['highway_mpg', 'price'], ascending=[False, False]).head(5)\n",
    "top_cars"
   ]
  },
  {
   "cell_type": "markdown",
   "metadata": {},
   "source": [
    "**How many cars have missing values in the `normalized_losses` column?**"
   ]
  },
  {
   "cell_type": "code",
   "execution_count": 141,
   "metadata": {},
   "outputs": [
    {
     "data": {
      "text/plain": [
       "201"
      ]
     },
     "execution_count": 141,
     "metadata": {},
     "output_type": "execute_result"
    }
   ],
   "source": [
    "missing_values=auto['normalized_losses'].isna()\n",
    "count=len(missing_values)\n",
    "count"
   ]
  },
  {
   "cell_type": "markdown",
   "metadata": {},
   "source": [
    "**Create a new column `car_age` that calculates the age of the car based on the `year_of_manufacture` (assume the current year is 2025).**"
   ]
  },
  {
   "cell_type": "code",
   "execution_count": null,
   "metadata": {},
   "outputs": [],
   "source": [
    "current_year=2025\n",
    "auto['car_age']=current_year - auto['year_of_manufacture']"
   ]
  },
  {
   "cell_type": "markdown",
   "metadata": {
    "id": "lUpH8N1Y742a"
   },
   "source": [
    "### The END"
   ]
  }
 ],
 "metadata": {
  "colab": {
   "collapsed_sections": [],
   "include_colab_link": true,
   "name": "Pandas Lab Exercise (kaggle automobile dataset).ipynb",
   "provenance": []
  },
  "kernelspec": {
   "display_name": "Python [conda env:base] *",
   "language": "python",
   "name": "conda-base-py"
  },
  "language_info": {
   "codemirror_mode": {
    "name": "ipython",
    "version": 3
   },
   "file_extension": ".py",
   "mimetype": "text/x-python",
   "name": "python",
   "nbconvert_exporter": "python",
   "pygments_lexer": "ipython3",
   "version": "3.12.7"
  }
 },
 "nbformat": 4,
 "nbformat_minor": 4
}
