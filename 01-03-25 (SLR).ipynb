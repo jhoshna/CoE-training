{
 "cells": [
  {
   "cell_type": "markdown",
   "id": "0b759bfe",
   "metadata": {},
   "source": [
    "**SIMPLE LINEAR REGRESSION (SLR)**"
   ]
  },
  {
   "cell_type": "markdown",
   "id": "43c2b231",
   "metadata": {},
   "source": [
    "***Step 1: Importing the libaries***"
   ]
  },
  {
   "cell_type": "code",
   "execution_count": 7,
   "id": "a51be2b8",
   "metadata": {},
   "outputs": [],
   "source": [
    "# step 1: Importing the libaries \n",
    "\n",
    "import numpy as np  # For handling numerical data\n",
    "import matplotlib.pyplot as plt  # For data visualization\n",
    "import pandas as pd   #For importing the data files\n",
    "import seaborn as sns\n",
    "from sklearn.model_selection import train_test_split\n",
    "from sklearn.preprocessing import StandardScaler\n",
    "from sklearn.linear_model import LinearRegression   # For building the regression model\n",
    "from sklearn.metrics import mean_squared_error, mean_absolute_error, r2_score  # For evaluating the model\n",
    "import statsmodels.api as sm  # For OLS (Ordinary Least Squares) Regression"
   ]
  },
  {
   "cell_type": "markdown",
   "id": "c65b751c",
   "metadata": {},
   "source": [
    "**Step 2: Define the dataset (Experience in years and corresponding Salary in $1000s)**"
   ]
  },
  {
   "cell_type": "code",
   "execution_count": 49,
   "id": "43920a99",
   "metadata": {},
   "outputs": [],
   "source": [
    "np.random.seed(42)  # Ensuring reproducibility of random noise\n",
    " \n",
    "X = np.array([1, 2, 3, 4, 5, 6, 7, 8, 9, 10]).reshape(-1, 1)  # Independent variable (Experience)\n",
    "true_salaries = np.array([30, 35, 40, 45, 50, 55, 60, 65, 70, 75])  # True salary values\n"
   ]
  },
  {
   "cell_type": "code",
   "execution_count": 9,
   "id": "10b717e8",
   "metadata": {},
   "outputs": [],
   "source": [
    "# Adding some random noise to salaries to reduce accuracy\n",
    "noise = np.random.normal(0, 5, size=true_salaries.shape)  # Adding Gaussian noise (mean=0, std=5)\n",
    "Y = true_salaries + noise  # Final dependent variable with noise"
   ]
  },
  {
   "cell_type": "markdown",
   "id": "9c1780fd",
   "metadata": {},
   "source": [
    "**Step 3 : create a linear regression model**"
   ]
  },
  {
   "cell_type": "code",
   "execution_count": 12,
   "id": "847dcb7e",
   "metadata": {},
   "outputs": [],
   "source": [
    "model = LinearRegression() #Initialize the model"
   ]
  },
  {
   "cell_type": "markdown",
   "id": "1b450d24",
   "metadata": {},
   "source": [
    "**Step 4 : Train the model using the dataset**"
   ]
  },
  {
   "cell_type": "code",
   "execution_count": 22,
   "id": "bb74b389",
   "metadata": {
    "scrolled": true
   },
   "outputs": [
    {
     "data": {
      "text/html": [
       "<style>#sk-container-id-3 {color: black;}#sk-container-id-3 pre{padding: 0;}#sk-container-id-3 div.sk-toggleable {background-color: white;}#sk-container-id-3 label.sk-toggleable__label {cursor: pointer;display: block;width: 100%;margin-bottom: 0;padding: 0.3em;box-sizing: border-box;text-align: center;}#sk-container-id-3 label.sk-toggleable__label-arrow:before {content: \"▸\";float: left;margin-right: 0.25em;color: #696969;}#sk-container-id-3 label.sk-toggleable__label-arrow:hover:before {color: black;}#sk-container-id-3 div.sk-estimator:hover label.sk-toggleable__label-arrow:before {color: black;}#sk-container-id-3 div.sk-toggleable__content {max-height: 0;max-width: 0;overflow: hidden;text-align: left;background-color: #f0f8ff;}#sk-container-id-3 div.sk-toggleable__content pre {margin: 0.2em;color: black;border-radius: 0.25em;background-color: #f0f8ff;}#sk-container-id-3 input.sk-toggleable__control:checked~div.sk-toggleable__content {max-height: 200px;max-width: 100%;overflow: auto;}#sk-container-id-3 input.sk-toggleable__control:checked~label.sk-toggleable__label-arrow:before {content: \"▾\";}#sk-container-id-3 div.sk-estimator input.sk-toggleable__control:checked~label.sk-toggleable__label {background-color: #d4ebff;}#sk-container-id-3 div.sk-label input.sk-toggleable__control:checked~label.sk-toggleable__label {background-color: #d4ebff;}#sk-container-id-3 input.sk-hidden--visually {border: 0;clip: rect(1px 1px 1px 1px);clip: rect(1px, 1px, 1px, 1px);height: 1px;margin: -1px;overflow: hidden;padding: 0;position: absolute;width: 1px;}#sk-container-id-3 div.sk-estimator {font-family: monospace;background-color: #f0f8ff;border: 1px dotted black;border-radius: 0.25em;box-sizing: border-box;margin-bottom: 0.5em;}#sk-container-id-3 div.sk-estimator:hover {background-color: #d4ebff;}#sk-container-id-3 div.sk-parallel-item::after {content: \"\";width: 100%;border-bottom: 1px solid gray;flex-grow: 1;}#sk-container-id-3 div.sk-label:hover label.sk-toggleable__label {background-color: #d4ebff;}#sk-container-id-3 div.sk-serial::before {content: \"\";position: absolute;border-left: 1px solid gray;box-sizing: border-box;top: 0;bottom: 0;left: 50%;z-index: 0;}#sk-container-id-3 div.sk-serial {display: flex;flex-direction: column;align-items: center;background-color: white;padding-right: 0.2em;padding-left: 0.2em;position: relative;}#sk-container-id-3 div.sk-item {position: relative;z-index: 1;}#sk-container-id-3 div.sk-parallel {display: flex;align-items: stretch;justify-content: center;background-color: white;position: relative;}#sk-container-id-3 div.sk-item::before, #sk-container-id-3 div.sk-parallel-item::before {content: \"\";position: absolute;border-left: 1px solid gray;box-sizing: border-box;top: 0;bottom: 0;left: 50%;z-index: -1;}#sk-container-id-3 div.sk-parallel-item {display: flex;flex-direction: column;z-index: 1;position: relative;background-color: white;}#sk-container-id-3 div.sk-parallel-item:first-child::after {align-self: flex-end;width: 50%;}#sk-container-id-3 div.sk-parallel-item:last-child::after {align-self: flex-start;width: 50%;}#sk-container-id-3 div.sk-parallel-item:only-child::after {width: 0;}#sk-container-id-3 div.sk-dashed-wrapped {border: 1px dashed gray;margin: 0 0.4em 0.5em 0.4em;box-sizing: border-box;padding-bottom: 0.4em;background-color: white;}#sk-container-id-3 div.sk-label label {font-family: monospace;font-weight: bold;display: inline-block;line-height: 1.2em;}#sk-container-id-3 div.sk-label-container {text-align: center;}#sk-container-id-3 div.sk-container {/* jupyter's `normalize.less` sets `[hidden] { display: none; }` but bootstrap.min.css set `[hidden] { display: none !important; }` so we also need the `!important` here to be able to override the default hidden behavior on the sphinx rendered scikit-learn.org. See: https://github.com/scikit-learn/scikit-learn/issues/21755 */display: inline-block !important;position: relative;}#sk-container-id-3 div.sk-text-repr-fallback {display: none;}</style><div id=\"sk-container-id-3\" class=\"sk-top-container\"><div class=\"sk-text-repr-fallback\"><pre>LinearRegression()</pre><b>In a Jupyter environment, please rerun this cell to show the HTML representation or trust the notebook. <br />On GitHub, the HTML representation is unable to render, please try loading this page with nbviewer.org.</b></div><div class=\"sk-container\" hidden><div class=\"sk-item\"><div class=\"sk-estimator sk-toggleable\"><input class=\"sk-toggleable__control sk-hidden--visually\" id=\"sk-estimator-id-3\" type=\"checkbox\" checked><label for=\"sk-estimator-id-3\" class=\"sk-toggleable__label sk-toggleable__label-arrow\">LinearRegression</label><div class=\"sk-toggleable__content\"><pre>LinearRegression()</pre></div></div></div></div></div>"
      ],
      "text/plain": [
       "LinearRegression()"
      ]
     },
     "execution_count": 22,
     "metadata": {},
     "output_type": "execute_result"
    }
   ],
   "source": [
    "model.fit(X,Y)  # model learns the best-fit line by minimizing the error"
   ]
  },
  {
   "cell_type": "markdown",
   "id": "3858bb4d",
   "metadata": {},
   "source": [
    "**Step 5 : Get the values of slope and intercept from the trained model**"
   ]
  },
  {
   "cell_type": "code",
   "execution_count": 21,
   "id": "22ba287c",
   "metadata": {},
   "outputs": [
    {
     "name": "stdout",
     "output_type": "stream",
     "text": [
      "Intercept: 27.430065779800536\n",
      "Coefficients: [4.96549814]\n"
     ]
    }
   ],
   "source": [
    "intercept = model.intercept_    #Intercept\n",
    "coefficients = model.coef_      # Coefficient of the regression line\n",
    " \n",
    "print(\"Intercept:\",intercept)\n",
    "print(\"Coefficients:\",coefficients)"
   ]
  },
  {
   "cell_type": "markdown",
   "id": "fc60bdb8",
   "metadata": {},
   "source": [
    "**Step 6 : Display the equation of the line**"
   ]
  },
  {
   "cell_type": "code",
   "execution_count": 24,
   "id": "3d512575",
   "metadata": {},
   "outputs": [
    {
     "name": "stdout",
     "output_type": "stream",
     "text": [
      "Equation of the line: Y = 27.43X + 4.97\n"
     ]
    }
   ],
   "source": [
    "print(f\"Equation of the line: Y = {intercept:.2f}X + {coefficients[0]:.2f}\")\n"
   ]
  },
  {
   "cell_type": "markdown",
   "id": "12b7ab62",
   "metadata": {},
   "source": [
    "**Step 7 : Predict the values using the model**"
   ]
  },
  {
   "cell_type": "code",
   "execution_count": 25,
   "id": "5ef03a0b",
   "metadata": {},
   "outputs": [],
   "source": [
    "Y_pred = model.predict(X) # TO predict salaries of the given experience values"
   ]
  },
  {
   "cell_type": "markdown",
   "id": "adeb30fc",
   "metadata": {},
   "source": [
    "**1 . MEAN SQUARED ERROR(MSE) - Measure average squared difference between actual and predicted values**"
   ]
  },
  {
   "cell_type": "code",
   "execution_count": 31,
   "id": "05d641a6",
   "metadata": {},
   "outputs": [
    {
     "name": "stdout",
     "output_type": "stream",
     "text": [
      "Mean Absolute Error (MAE): 11.75\n"
     ]
    }
   ],
   "source": [
    "mse = mean_squared_error(Y,Y_pred)\n",
    "print(f\"Mean Absolute Error (MAE): {mse:.2f}\")"
   ]
  },
  {
   "cell_type": "markdown",
   "id": "b9af7ad0",
   "metadata": {},
   "source": [
    "**2 . MEAN ABSOLUTE ERROR (MAE) - Measure average absolute difference between actual and predicted values**"
   ]
  },
  {
   "cell_type": "code",
   "execution_count": 32,
   "id": "3bd70726",
   "metadata": {},
   "outputs": [
    {
     "name": "stdout",
     "output_type": "stream",
     "text": [
      "Mean Absolute Errorc(MAE): 2.87\n"
     ]
    }
   ],
   "source": [
    "mae = mean_absolute_error(Y,Y_pred)\n",
    "print(f\"Mean Absolute Errorc(MAE): {mae:.2f}\")"
   ]
  },
  {
   "cell_type": "markdown",
   "id": "8838a62f",
   "metadata": {},
   "source": [
    "**3 . ROOT MEAN SQUARED ERROR (RMSE) - Measures standard deviation od residuals (errors)**"
   ]
  },
  {
   "cell_type": "code",
   "execution_count": 30,
   "id": "bf7c47fb",
   "metadata": {},
   "outputs": [
    {
     "name": "stdout",
     "output_type": "stream",
     "text": [
      "Root Mean Squared Error (RMSE):3.43\n"
     ]
    }
   ],
   "source": [
    "rmse = np.sqrt(mse)\n",
    "print(f\"Root Mean Squared Error (RMSE):{rmse:.2f}\")\n"
   ]
  },
  {
   "cell_type": "markdown",
   "id": "21c3b376",
   "metadata": {},
   "source": [
    "**4 . R-squared(R^2) - Represents how well the model fits the data(0 to 1,whaere 1 is best)**"
   ]
  },
  {
   "cell_type": "code",
   "execution_count": 33,
   "id": "71aee47f",
   "metadata": {},
   "outputs": [
    {
     "name": "stdout",
     "output_type": "stream",
     "text": [
      "R-squared (R^2) : 0.95\n"
     ]
    }
   ],
   "source": [
    "r2 = r2_score(Y,Y_pred)\n",
    "print(f\"R-squared (R^2) : {r2:.2f}\")"
   ]
  },
  {
   "cell_type": "markdown",
   "id": "c5948bd5",
   "metadata": {},
   "source": [
    "**5 . Adjusted R-squared(R^2_adj) - Adjusted for the number of predictors,better for multiple regression**"
   ]
  },
  {
   "cell_type": "code",
   "execution_count": 34,
   "id": "f0988eba",
   "metadata": {},
   "outputs": [
    {
     "name": "stdout",
     "output_type": "stream",
     "text": [
      "Ajusted R-squared:0.94\n"
     ]
    }
   ],
   "source": [
    "n = len(Y) # Number of observations\n",
    "p = 1 #Number of independent variables (Experience)\n",
    "adj_r2 = 1 - ((1 - r2) * (n-1) / (n - p - 1))\n",
    "print(f\"Ajusted R-squared:{adj_r2:.2f}\")"
   ]
  },
  {
   "cell_type": "markdown",
   "id": "cfec7ce8",
   "metadata": {},
   "source": [
    "**Step 8 : Plot the actual data points**"
   ]
  },
  {
   "cell_type": "code",
   "execution_count": 35,
   "id": "bb35854f",
   "metadata": {},
   "outputs": [
    {
     "data": {
      "text/plain": [
       "<matplotlib.collections.PathCollection at 0x1f0ffae3590>"
      ]
     },
     "execution_count": 35,
     "metadata": {},
     "output_type": "execute_result"
    },
    {
     "data": {
      "image/png": "[encoded data removed]",
      "text/plain": [
       "<Figure size 640x480 with 1 Axes>"
      ]
     },
     "metadata": {},
     "output_type": "display_data"
    }
   ],
   "source": [
    "plt.scatter(X , Y , color = 'purple' , label = 'Actual Data') #scatter plot of the actual values"
   ]
  },
  {
   "cell_type": "markdown",
   "id": "37d4f492",
   "metadata": {},
   "source": [
    "**Step 9 : Plot the Regression Line(Best fit line)**"
   ]
  },
  {
   "cell_type": "code",
   "execution_count": 36,
   "id": "b32de1c3",
   "metadata": {},
   "outputs": [
    {
     "data": {
      "text/plain": [
       "[<matplotlib.lines.Line2D at 0x1f0ffafc810>]"
      ]
     },
     "execution_count": 36,
     "metadata": {},
     "output_type": "execute_result"
    },
    {
     "data": {
      "image/png": "[encoded data removed]",
      "text/plain": [
       "<Figure size 640x480 with 1 Axes>"
      ]
     },
     "metadata": {},
     "output_type": "display_data"
    }
   ],
   "source": [
    "plt.plot(X,Y_pred,color='red',label='Best Fit Line')"
   ]
  },
  {
   "cell_type": "markdown",
   "id": "5ba82508",
   "metadata": {},
   "source": [
    "**Step 10 : Add labels and legends**"
   ]
  },
  {
   "cell_type": "code",
   "execution_count": 40,
   "id": "c01253f1",
   "metadata": {},
   "outputs": [
    {
     "data": {
      "text/plain": [
       "<matplotlib.legend.Legend at 0x1f080f01d90>"
      ]
     },
     "execution_count": 40,
     "metadata": {},
     "output_type": "execute_result"
    },
    {
     "data": {
      "image/png": "[encoded data removed]",
      "text/plain": [
       "<Figure size 640x480 with 1 Axes>"
      ]
     },
     "metadata": {},
     "output_type": "display_data"
    }
   ],
   "source": [
    "plt.scatter(X , Y , color = 'purple' , label = 'Actual Data') #scatter plot of the actual values\n",
    "\n",
    "plt.plot(X,Y_pred,color='red',label='Best Fit Line')\n",
    "\n",
    "plt.xlabel('Experience (Years)')  # Label for X-axis\n",
    "plt.ylabel('Salary (in $1000s)')  #Label for Y-axis\n",
    "plt.title('Simple linear regression - Experience vs Salary') #Title of the plot\n",
    "plt.legend() #show legend\n"
   ]
  },
  {
   "cell_type": "code",
   "execution_count": 43,
   "id": "dee4c9e3",
   "metadata": {},
   "outputs": [
    {
     "name": "stdout",
     "output_type": "stream",
     "text": [
      "\n",
      " Enter years of experience to predict salary (or -1 to exit):5\n",
      "predicted salary for 5.0 years of experience: $52.26K\n",
      "\n",
      " Enter years of experience to predict salary (or -1 to exit):-1\n"
     ]
    }
   ],
   "source": [
    " #user can input eperience , and the model will predict salary\n",
    " while True:\n",
    "    try:\n",
    "        exp = float(input(\"\\n Enter years of experience to predict salary (or -1 to exit):\"))\n",
    "        if exp == -1:\n",
    "            break \n",
    "        predicted_salary = model.predict(np.array([[exp]]))[0]\n",
    "        print(f\"predicted salary for {exp} years of experience: ${predicted_salary:.2f}K\")\n",
    "    except ValueError:\n",
    "        print(\"Please enter a valid number!\")"
   ]
  },
  {
   "cell_type": "code",
   "execution_count": 45,
   "id": "21d21375",
   "metadata": {},
   "outputs": [],
   "source": [
    "import statsmodels.api as sm  # For OLS Regression\n",
    "from sklearn.preprocessing import PolynomialFeatures\n",
    "\n",
    " \n",
    "# Step 3: Convert data into Polynomial Features (degree 2 for quadratic relationship)\n",
    "\n",
    "degree = 2  # You can change this for higher degrees\n",
    "\n",
    "poly = PolynomialFeatures(degree=degree)  # Creating polynomial feature transformer\n",
    "\n",
    "X_poly = poly.fit_transform(X)  # Transforming X to polynomial features\n",
    " "
   ]
  },
  {
   "cell_type": "code",
   "execution_count": 46,
   "id": "446c043e",
   "metadata": {},
   "outputs": [
    {
     "name": "stdout",
     "output_type": "stream",
     "text": [
      "\n",
      "OLS Regression Summary:\n",
      "\n",
      "                            OLS Regression Results                            \n",
      "==============================================================================\n",
      "Dep. Variable:                      y   R-squared:                       0.947\n",
      "Model:                            OLS   Adj. R-squared:                  0.931\n",
      "Method:                 Least Squares   F-statistic:                     62.13\n",
      "Date:                Sat, 01 Mar 2025   Prob (F-statistic):           3.50e-05\n",
      "Time:                        12:12:56   Log-Likelihood:                -26.390\n",
      "No. Observations:                  10   AIC:                             58.78\n",
      "Df Residuals:                       7   BIC:                             59.69\n",
      "Df Model:                           2                                         \n",
      "Covariance Type:            nonrobust                                         \n",
      "==============================================================================\n",
      "                 coef    std err          t      P>|t|      [0.025      0.975]\n",
      "------------------------------------------------------------------------------\n",
      "const         25.8348      4.762      5.425      0.001      14.575      37.095\n",
      "x1             5.7631      1.989      2.898      0.023       1.060      10.466\n",
      "x2            -0.0725      0.176     -0.412      0.693      -0.489       0.344\n",
      "==============================================================================\n",
      "Omnibus:                        1.453   Durbin-Watson:                   2.499\n",
      "Prob(Omnibus):                  0.484   Jarque-Bera (JB):                0.743\n",
      "Skew:                           0.130   Prob(JB):                        0.690\n",
      "Kurtosis:                       1.690   Cond. No.                         202.\n",
      "==============================================================================\n",
      "\n",
      "Notes:\n",
      "[1] Standard Errors assume that the covariance matrix of the errors is correctly specified.\n"
     ]
    },
    {
     "name": "stderr",
     "output_type": "stream",
     "text": [
      "C:\\Users\\CVR\\anaconda3\\Lib\\site-packages\\scipy\\stats\\_stats_py.py:1806: UserWarning: kurtosistest only valid for n>=20 ... continuing anyway, n=10\n",
      "  warnings.warn(\"kurtosistest only valid for n>=20 ... continuing \"\n"
     ]
    }
   ],
   "source": [
    "# 6. Ordinary Least Squares (OLS) Summary - Gives detailed statistical summary of the regression\n",
    "\n",
    "X_ols = sm.add_constant(X_poly)  # Add intercept term for OLS regression\n",
    "\n",
    "ols_model = sm.OLS(Y, X_ols).fit()  # Fit OLS model\n",
    "\n",
    "print(\"\\nOLS Regression Summary:\\n\")\n",
    "\n",
    "print(ols_model.summary())  # Display detailed statistical summary\n",
    " "
   ]
  },
  {
   "cell_type": "code",
   "execution_count": 48,
   "id": "15b9b31d",
   "metadata": {},
   "outputs": [
    {
     "name": "stdout",
     "output_type": "stream",
     "text": [
      "\n",
      "Enter years of experience to predict salary (or -1 to exit):10\n",
      "Predicted salary for 10.0 years of experience: $77.09K\n",
      "\n",
      "Enter years of experience to predict salary (or -1 to exit):6\n",
      "Predicted salary for 6.0 years of experience: $57.22K\n",
      "\n",
      "Enter years of experience to predict salary (or -1 to exit):-1\n"
     ]
    }
   ],
   "source": [
    "#Step 12: Prediction of the features\n",
    "#User can input experience, and the model will predict salary\n",
    "while True:\n",
    "    try:\n",
    "        exp = float(input(\"\\nEnter years of experience to predict salary (or -1 to exit):\"))\n",
    "        if exp <= -1:\n",
    "            break\n",
    "        predicted_salary = model.predict(np.array([[exp]]))[0]\n",
    "        print(f\"Predicted salary for {exp} years of experience: ${predicted_salary:.2f}K\")\n",
    "    except ValueError:\n",
    "        print(\"Please enter a valid number\")   #modify this code in continuation to the above one"
   ]
  }
 ],
 "metadata": {
  "kernelspec": {
   "display_name": "Python 3 (ipykernel)",
   "language": "python",
   "name": "python3"
  },
  "language_info": {
   "codemirror_mode": {
    "name": "ipython",
    "version": 3
   },
   "file_extension": ".py",
   "mimetype": "text/x-python",
   "name": "python",
   "nbconvert_exporter": "python",
   "pygments_lexer": "ipython3",
   "version": "3.11.5"
  }
 },
 "nbformat": 4,
 "nbformat_minor": 5
}
