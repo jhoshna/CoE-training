{
 "cells": [
  {
   "cell_type": "markdown",
   "id": "fab84b20-4c85-4e2e-a001-d56f4d9decfb",
   "metadata": {},
   "source": [
    "**What is Feature Selection?**\n",
    " \n",
    "        Feature selection is the process of choosing the most important features (variables) from a dataset to improve a machine learning model's performance and efficiency. Instead of using all the features, we select only the most relevant ones that contribute significantly to predictions."
   ]
  },
  {
   "cell_type": "markdown",
   "id": "acba07a5-03fa-46eb-abf4-cf9529efdc84",
   "metadata": {},
   "source": [
    "**Why Do We Need Feature Selection?**\n",
    " \n",
    "*<b>1.Reduces Overfitting 📉*</b>\n",
    " \n",
    "        Too many irrelevant features can make a model complex and cause it to overfit the training data.\n",
    "\n",
    "*<b>2.Improves Model Performance 🚀*</b>\n",
    " \n",
    "        Selecting relevant features boosts accuracy and reduces unnecessary noise in the data.\n",
    "\n",
    "*<b>3.Reduces Training Time ⏳*</b>\n",
    " \n",
    "        Fewer features mean faster model training and lower computational cost.\n",
    "\n",
    "*<b>4.Enhances Interpretability 🔍*</b>\n",
    " \n",
    "        Helps in understanding which features actually impact predictions.\n",
    "\n",
    " "
   ]
  },
  {
   "cell_type": "markdown",
   "id": "114a5354-01c1-43f2-a731-5537bdd065dd",
   "metadata": {},
   "source": [
    "**Types of Feature Selection Methods**\n",
    " \n",
    "**<ins>Type => Filter Methods:</ins>**\n",
    " \n",
    "Method => Correlation, Chi-Square, Mutual Information.\n",
    " \n",
    "Description => Rank features based on statistical tests.\n",
    " \n",
    "**<ins>Type => Wrapper Methods:</ins>**\n",
    " \n",
    "Method => Forward/Backward Selection, Recursive Feature Elimination (RFE)\n",
    " \n",
    "Description => Train models with different feature subsets and select the best.\n",
    "\n",
    "**<ins>Type => Embedded Methods</ins>**\n",
    " \n",
    "Method =>Lasso Regression, Decision Trees\n",
    " \n",
    "Description =>Feature selection is built into the model training process.\n",
    " "
   ]
  },
  {
   "cell_type": "code",
   "execution_count": 42,
   "id": "9ab79d8f-501e-4658-af7c-4a5b0a47a160",
   "metadata": {},
   "outputs": [],
   "source": [
    "import pandas as pd\n",
    "import numpy as np\n",
    "from sklearn.model_selection import train_test_split\n",
    "from sklearn.ensemble import RandomForestRegressor\n",
    "from sklearn.feature_selection import RFE\n",
    "from sklearn.linear_model import Lasso\n",
    "import seaborn as sns\n",
    "import matplotlib.pyplot as plt"
   ]
  },
  {
   "cell_type": "code",
   "execution_count": 20,
   "id": "8f1a4389-6e29-4f4b-adf3-1d3959e3a54f",
   "metadata": {},
   "outputs": [],
   "source": [
    "# Step 1: Create a smaple Dataset\n",
    "np.random.seed(42)\n",
    "data = pd.DataFrame({\n",
    "    'Size': np.random.randint(1000,5000,100), #Square feet\n",
    "    'Bedrooms':np.random.randint(1,5,100),    # Number of bedrooms\n",
    "    'Age':np.random.randint(1,50,100),        # Age of the house\n",
    "    'Price':np.random.randint(100000,500000,100)  # House price\n",
    "})"
   ]
  },
  {
   "cell_type": "code",
   "execution_count": 22,
   "id": "426a8bae-3177-4197-91d6-9bc6160fee4c",
   "metadata": {},
   "outputs": [
    {
     "data": {
      "text/html": [
       "<div>\n",
       "<style scoped>\n",
       "    .dataframe tbody tr th:only-of-type {\n",
       "        vertical-align: middle;\n",
       "    }\n",
       "\n",
       "    .dataframe tbody tr th {\n",
       "        vertical-align: top;\n",
       "    }\n",
       "\n",
       "    .dataframe thead th {\n",
       "        text-align: right;\n",
       "    }\n",
       "</style>\n",
       "<table border=\"1\" class=\"dataframe\">\n",
       "  <thead>\n",
       "    <tr style=\"text-align: right;\">\n",
       "      <th></th>\n",
       "      <th>Size</th>\n",
       "      <th>Bedrooms</th>\n",
       "      <th>Age</th>\n",
       "      <th>Price</th>\n",
       "    </tr>\n",
       "  </thead>\n",
       "  <tbody>\n",
       "    <tr>\n",
       "      <th>0</th>\n",
       "      <td>4174</td>\n",
       "      <td>2</td>\n",
       "      <td>32</td>\n",
       "      <td>486393</td>\n",
       "    </tr>\n",
       "    <tr>\n",
       "      <th>1</th>\n",
       "      <td>4507</td>\n",
       "      <td>2</td>\n",
       "      <td>39</td>\n",
       "      <td>134754</td>\n",
       "    </tr>\n",
       "    <tr>\n",
       "      <th>2</th>\n",
       "      <td>1860</td>\n",
       "      <td>4</td>\n",
       "      <td>49</td>\n",
       "      <td>326814</td>\n",
       "    </tr>\n",
       "    <tr>\n",
       "      <th>3</th>\n",
       "      <td>2294</td>\n",
       "      <td>2</td>\n",
       "      <td>32</td>\n",
       "      <td>337714</td>\n",
       "    </tr>\n",
       "    <tr>\n",
       "      <th>4</th>\n",
       "      <td>2130</td>\n",
       "      <td>2</td>\n",
       "      <td>4</td>\n",
       "      <td>242483</td>\n",
       "    </tr>\n",
       "  </tbody>\n",
       "</table>\n",
       "</div>"
      ],
      "text/plain": [
       "   Size  Bedrooms  Age   Price\n",
       "0  4174         2   32  486393\n",
       "1  4507         2   39  134754\n",
       "2  1860         4   49  326814\n",
       "3  2294         2   32  337714\n",
       "4  2130         2    4  242483"
      ]
     },
     "execution_count": 22,
     "metadata": {},
     "output_type": "execute_result"
    }
   ],
   "source": [
    "data.head()"
   ]
  },
  {
   "cell_type": "code",
   "execution_count": 24,
   "id": "f50f7628-9c8d-4513-98f4-20c74793aa98",
   "metadata": {},
   "outputs": [
    {
     "data": {
      "text/html": [
       "<div>\n",
       "<style scoped>\n",
       "    .dataframe tbody tr th:only-of-type {\n",
       "        vertical-align: middle;\n",
       "    }\n",
       "\n",
       "    .dataframe tbody tr th {\n",
       "        vertical-align: top;\n",
       "    }\n",
       "\n",
       "    .dataframe thead th {\n",
       "        text-align: right;\n",
       "    }\n",
       "</style>\n",
       "<table border=\"1\" class=\"dataframe\">\n",
       "  <thead>\n",
       "    <tr style=\"text-align: right;\">\n",
       "      <th></th>\n",
       "      <th>Size</th>\n",
       "      <th>Bedrooms</th>\n",
       "      <th>Age</th>\n",
       "      <th>Price</th>\n",
       "    </tr>\n",
       "  </thead>\n",
       "  <tbody>\n",
       "    <tr>\n",
       "      <th>95</th>\n",
       "      <td>2129</td>\n",
       "      <td>2</td>\n",
       "      <td>16</td>\n",
       "      <td>469599</td>\n",
       "    </tr>\n",
       "    <tr>\n",
       "      <th>96</th>\n",
       "      <td>4843</td>\n",
       "      <td>4</td>\n",
       "      <td>29</td>\n",
       "      <td>236672</td>\n",
       "    </tr>\n",
       "    <tr>\n",
       "      <th>97</th>\n",
       "      <td>4893</td>\n",
       "      <td>1</td>\n",
       "      <td>3</td>\n",
       "      <td>325732</td>\n",
       "    </tr>\n",
       "    <tr>\n",
       "      <th>98</th>\n",
       "      <td>2500</td>\n",
       "      <td>3</td>\n",
       "      <td>20</td>\n",
       "      <td>455323</td>\n",
       "    </tr>\n",
       "    <tr>\n",
       "      <th>99</th>\n",
       "      <td>1702</td>\n",
       "      <td>3</td>\n",
       "      <td>36</td>\n",
       "      <td>271836</td>\n",
       "    </tr>\n",
       "  </tbody>\n",
       "</table>\n",
       "</div>"
      ],
      "text/plain": [
       "    Size  Bedrooms  Age   Price\n",
       "95  2129         2   16  469599\n",
       "96  4843         4   29  236672\n",
       "97  4893         1    3  325732\n",
       "98  2500         3   20  455323\n",
       "99  1702         3   36  271836"
      ]
     },
     "execution_count": 24,
     "metadata": {},
     "output_type": "execute_result"
    }
   ],
   "source": [
    "data.tail()"
   ]
  },
  {
   "cell_type": "code",
   "execution_count": 38,
   "id": "83caeee7-66e4-4e54-b472-9d7872082c09",
   "metadata": {},
   "outputs": [
    {
     "data": {
      "image/png": "[encoded data removed]",
      "text/plain": [
       "<Figure size 600x400 with 2 Axes>"
      ]
     },
     "metadata": {},
     "output_type": "display_data"
    }
   ],
   "source": [
    "# Step 2: Compute Correlation (Filter Method)\n",
    "plt.figure(figsize=(6,4))\n",
    "sns.heatmap(data.corr(),annot=True, cmap='hot',fmt='.2f')\n",
    "plt.title(\"Feature Correlation Matrix\")\n",
    "plt.show()\n",
    "#Compute correlation to see how features relate to the target"
   ]
  },
  {
   "cell_type": "code",
   "execution_count": 51,
   "id": "0ac6e5b4-b5df-4c37-a32f-40ceb59c6cdf",
   "metadata": {},
   "outputs": [
    {
     "name": "stdout",
     "output_type": "stream",
     "text": [
      "Selected Features using REF: Index(['Size', 'Age'], dtype='object')\n"
     ]
    }
   ],
   "source": [
    "# Step 3 : Apply Recursive Feature Elimination (Wrapper Method)\n",
    "X = data.drop(columns=['Price']) #Feature\n",
    "y = data['Price'] # Target variable\n",
    "\n",
    "model = RandomForestRegressor()\n",
    "rfe = RFE(model,n_features_to_select=2) #Select top 2 features\n",
    "X_selected = rfe.fit_transform(X,y)\n",
    "\n",
    "print(\"Selected Features using REF:\",X.columns[rfe.support_])\n",
    "\n",
    "#Apply RFE (Wrapper Method) to select the top 2 important features"
   ]
  },
  {
   "cell_type": "code",
   "execution_count": 55,
   "id": "33fe436c-efe0-4cc8-85dd-babfe35b0ad8",
   "metadata": {},
   "outputs": [
    {
     "name": "stdout",
     "output_type": "stream",
     "text": [
      "selected features using lasso: Index(['Size', 'Bedrooms', 'Age'], dtype='object')\n"
     ]
    }
   ],
   "source": [
    "#Step 4: Apply Lasso(Least Abosulte Shrinkage and selection operator) Regression(Embedded method)\n",
    "lasso = Lasso(alpha=0.1)\n",
    "lasso.fit(X,y)\n",
    "importance = np.abs(lasso.coef_)\n",
    "\n",
    "#Display Feature Importance\n",
    "selected_features = X.columns[importance > 0]\n",
    "print(\"selected features using lasso:\",selected_features)\n",
    "\n",
    "#Apply Lasso Regression(Embedded method) to eliminate irrelevant features\n"
   ]
  },
  {
   "cell_type": "code",
   "execution_count": null,
   "id": "047799bd-b559-4ff0-b29c-f69e3c52c581",
   "metadata": {},
   "outputs": [],
   "source": []
  }
 ],
 "metadata": {
  "kernelspec": {
   "display_name": "Python [conda env:base] *",
   "language": "python",
   "name": "conda-base-py"
  },
  "language_info": {
   "codemirror_mode": {
    "name": "ipython",
    "version": 3
   },
   "file_extension": ".py",
   "mimetype": "text/x-python",
   "name": "python",
   "nbconvert_exporter": "python",
   "pygments_lexer": "ipython3",
   "version": "3.12.7"
  }
 },
 "nbformat": 4,
 "nbformat_minor": 5
}
