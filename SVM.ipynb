{
 "cells": [
  {
   "cell_type": "code",
   "execution_count": 2,
   "id": "b5a0a917",
   "metadata": {},
   "outputs": [],
   "source": [
    "import pandas as pd\n",
    "import numpy as np\n",
    "import matplotlib.pyplot as plt\n",
    "import seaborn as sns\n",
    "from sklearn.model_selection import train_test_split\n",
    "from sklearn.preprocessing import StandardScaler,LabelEncoder\n",
    "from sklearn.svm import SVC\n",
    "from sklearn.metrics import accuracy_score,confusion_matrix,classification_report\n",
    "from sklearn.decomposition import PCA"
   ]
  },
  {
   "cell_type": "code",
   "execution_count": 3,
   "id": "f0984199",
   "metadata": {},
   "outputs": [],
   "source": [
    "df = pd.read_csv(r'C:\\Users\\CVR\\Downloads\\heart.csv')"
   ]
  },
  {
   "cell_type": "markdown",
   "id": "0197d17a",
   "metadata": {},
   "source": [
    "**PreProcess the data**"
   ]
  },
  {
   "cell_type": "code",
   "execution_count": 4,
   "id": "1b68c849",
   "metadata": {},
   "outputs": [],
   "source": [
    "#Handle missing values\n",
    "df.dropna(inplace=True)\n",
    "\n",
    "#Encode categorical variables\n",
    "label_encoders = {}\n",
    "for col in df.select_dtypes(include=['object']).columns:\n",
    "    le = LabelEncoder()\n",
    "    df[col] = le.fit_transform(df[col])\n",
    "    label_encoders[col] = le"
   ]
  },
  {
   "cell_type": "code",
   "execution_count": 5,
   "id": "c09a7dc3",
   "metadata": {},
   "outputs": [],
   "source": [
    "# Define features and target variable\n",
    "x = df.drop(columns=['target']) # Replace 'target' with actual target column name\n",
    "y = df['target']\n",
    "\n",
    "#split dataset into training and testing sets\n",
    "x_train , x_test , y_train ,y_test = train_test_split(x,y,test_size=0.2,random_state=42)"
   ]
  },
  {
   "cell_type": "markdown",
   "id": "ae00f8c4",
   "metadata": {},
   "source": [
    "**Standardize Features**"
   ]
  },
  {
   "cell_type": "code",
   "execution_count": 6,
   "id": "98dbbf64",
   "metadata": {},
   "outputs": [],
   "source": [
    "scaler = StandardScaler()\n",
    "x_train = scaler.fit_transform(x_train)\n",
    "x_test = scaler.transform(x_test)"
   ]
  },
  {
   "cell_type": "markdown",
   "id": "fbbe4342",
   "metadata": {},
   "source": [
    "**Train and Evaluate SVM Model**"
   ]
  },
  {
   "cell_type": "code",
   "execution_count": 11,
   "id": "b1601de7",
   "metadata": {},
   "outputs": [],
   "source": [
    "# Train SVM with Linear Kernel\n",
    "svm_linear = SVC(kernel='linear',C=1)\n",
    "svm_linear.fit(x_train,y_train)\n",
    "y_pred_linear = svm_linear.predict(x_test)\n",
    "\n",
    "# Train SVM with Polynomial Kernel\n",
    "svm_poly = SVC(kernel='poly',degree=3,C=1)\n",
    "svm_poly.fit(x_train,y_train)\n",
    "y_pred_poly = svm_poly.predict(x_test)\n",
    "\n",
    "# Train SVM with RBF Kernel\n",
    "svm_rbf = SVC(kernel='rbf',C=1,gamma='scale')\n",
    "svm_rbf.fit(x_train,y_train)\n",
    "y_pred_rbf = svm_rbf.predict(x_test)\n",
    "\n"
   ]
  },
  {
   "cell_type": "markdown",
   "id": "ef9b206f",
   "metadata": {},
   "source": [
    "**Evaluate Model Performance**"
   ]
  },
  {
   "cell_type": "code",
   "execution_count": 13,
   "id": "bb584873",
   "metadata": {},
   "outputs": [
    {
     "name": "stdout",
     "output_type": "stream",
     "text": [
      "Linear Kernel Accuracy : 0.81\n",
      "Polynomial Kernel Accuracy : 0.91\n",
      "RBF Kernel Accuracy: 0.89\n"
     ]
    }
   ],
   "source": [
    "# pRINT ACCURACY SCORES\n",
    "print(f'Linear Kernel Accuracy : {accuracy_score(y_test,y_pred_linear):.2f}')\n",
    "print(f'Polynomial Kernel Accuracy : {accuracy_score(y_test,y_pred_poly):.2f}')\n",
    "print(f'RBF Kernel Accuracy: {accuracy_score(y_test,y_pred_rbf):.2f}')\n",
    "      "
   ]
  }
 ],
 "metadata": {
  "kernelspec": {
   "display_name": "Python 3 (ipykernel)",
   "language": "python",
   "name": "python3"
  },
  "language_info": {
   "codemirror_mode": {
    "name": "ipython",
    "version": 3
   },
   "file_extension": ".py",
   "mimetype": "text/x-python",
   "name": "python",
   "nbconvert_exporter": "python",
   "pygments_lexer": "ipython3",
   "version": "3.11.5"
  }
 },
 "nbformat": 4,
 "nbformat_minor": 5
}
