{
 "cells": [
  {
   "cell_type": "code",
   "execution_count": 2,
   "id": "d381319c-a44b-4223-b4ec-db79901a709f",
   "metadata": {},
   "outputs": [
    {
     "name": "stdout",
     "output_type": "stream",
     "text": [
      "Requirement already satisfied: numpy in c:\\users\\proxy1\\anaconda3\\lib\\site-packages (1.26.4)\n",
      "Note: you may need to restart the kernel to use updated packages.\n"
     ]
    }
   ],
   "source": [
    "pip install numpy"
   ]
  },
  {
   "cell_type": "code",
   "execution_count": 5,
   "id": "3229a5dc-6776-4a64-bd08-8c38a712daf0",
   "metadata": {},
   "outputs": [],
   "source": [
    "import numpy as np"
   ]
  },
  {
   "cell_type": "code",
   "execution_count": 7,
   "id": "0d453b73-7905-4cea-9f83-e3a85603aa0a",
   "metadata": {},
   "outputs": [
    {
     "name": "stdout",
     "output_type": "stream",
     "text": [
      "[1 2 3]\n"
     ]
    }
   ],
   "source": [
    "#1D array\n",
    "arr_1d=np.array([1,2,3])\n",
    "print(arr_1d)"
   ]
  },
  {
   "cell_type": "code",
   "execution_count": 9,
   "id": "4a4a8059-7732-4a87-ae6c-ca8c4935fc5e",
   "metadata": {},
   "outputs": [
    {
     "name": "stdout",
     "output_type": "stream",
     "text": [
      "[[1 2 3]\n",
      " [4 5 6]]\n"
     ]
    }
   ],
   "source": [
    "#2D array\n",
    "arr_2d=np.array([[1,2,3],[4,5,6]])\n",
    "print(arr_2d)"
   ]
  },
  {
   "cell_type": "code",
   "execution_count": 11,
   "id": "aa881dde-c577-4e57-b7db-0553977e92d9",
   "metadata": {},
   "outputs": [
    {
     "name": "stdout",
     "output_type": "stream",
     "text": [
      "[[0. 0. 0.]\n",
      " [0. 0. 0.]]\n"
     ]
    }
   ],
   "source": [
    " #Array of zeros\n",
    "zeros=np.zeros((2,3))\n",
    "print(zeros)"
   ]
  },
  {
   "cell_type": "code",
   "execution_count": 15,
   "id": "b69d51bd-fbee-410c-8ad4-8dfc1cbf2bb0",
   "metadata": {},
   "outputs": [
    {
     "name": "stdout",
     "output_type": "stream",
     "text": [
      "[[1. 1. 1.]\n",
      " [1. 1. 1.]\n",
      " [1. 1. 1.]]\n"
     ]
    }
   ],
   "source": [
    " #Array of ones\n",
    "ones=np.ones((3,3))\n",
    "print(ones)"
   ]
  },
  {
   "cell_type": "code",
   "execution_count": 29,
   "id": "e70dab4b-5d71-4f4c-b1b0-d6f5c8d63e4d",
   "metadata": {},
   "outputs": [
    {
     "name": "stdout",
     "output_type": "stream",
     "text": [
      "[[0.63034689 0.45810368 0.24861356 0.56668824]\n",
      " [0.46288767 0.86509114 0.84737934 0.82342157]\n",
      " [0.2651797  0.11519176 0.02995452 0.48752956]\n",
      " [0.95652474 0.63485909 0.47392133 0.1204127 ]]\n"
     ]
    }
   ],
   "source": [
    "#Array of Randoms\n",
    "random = np.random.random((4,4))\n",
    "print(random)"
   ]
  },
  {
   "cell_type": "code",
   "execution_count": 31,
   "id": "fbb0c596-1170-442b-81d8-50778d27a805",
   "metadata": {},
   "outputs": [
    {
     "name": "stdout",
     "output_type": "stream",
     "text": [
      "[[1. 0. 0.]\n",
      " [0. 1. 0.]\n",
      " [0. 0. 1.]]\n"
     ]
    }
   ],
   "source": [
    "#Identify matrix\n",
    "identity = np.eye(3)\n",
    "print(identity)"
   ]
  },
  {
   "cell_type": "code",
   "execution_count": 35,
   "id": "ecc6b9b3-1719-4390-89ae-e28c08635761",
   "metadata": {},
   "outputs": [
    {
     "name": "stdout",
     "output_type": "stream",
     "text": [
      "[0 2 4 6 8]\n"
     ]
    }
   ],
   "source": [
    "#Array with a range of values\n",
    "range_arr=np.arange(0,10,2)\n",
    "print(range_arr)"
   ]
  },
  {
   "cell_type": "code",
   "execution_count": 39,
   "id": "7261c68a-37fc-4d52-9718-056a02fbef8f",
   "metadata": {},
   "outputs": [
    {
     "name": "stdout",
     "output_type": "stream",
     "text": [
      "Shape: (2, 3)\n",
      "Size: 6\n",
      "Data type: int32\n",
      "Number of Dimensions:  2\n"
     ]
    }
   ],
   "source": [
    "#Array Atributes\n",
    "arr = np.array([[1,2,3],[4,5,6]])\n",
    "print(\"Shape:\",arr.shape)\n",
    "print(\"Size:\",arr.size)\n",
    "print(\"Data type:\",arr.dtype)\n",
    "print(\"Number of Dimensions: \",arr.ndim)"
   ]
  },
  {
   "cell_type": "code",
   "execution_count": 43,
   "id": "8196c0a1-0897-45e5-8a52-73f53c12cec0",
   "metadata": {},
   "outputs": [
    {
     "data": {
      "text/plain": [
       "2"
      ]
     },
     "execution_count": 43,
     "metadata": {},
     "output_type": "execute_result"
    }
   ],
   "source": [
    "arr[0,1]"
   ]
  },
  {
   "cell_type": "code",
   "execution_count": 45,
   "id": "64473dae-42f0-400c-9470-3062702c1983",
   "metadata": {},
   "outputs": [
    {
     "data": {
      "text/plain": [
       "6"
      ]
     },
     "execution_count": 45,
     "metadata": {},
     "output_type": "execute_result"
    }
   ],
   "source": [
    "arr[1,2]"
   ]
  },
  {
   "cell_type": "code",
   "execution_count": 47,
   "id": "10bb6aa6-5250-4b85-af5d-3da2eca04152",
   "metadata": {},
   "outputs": [
    {
     "data": {
      "text/plain": [
       "6"
      ]
     },
     "execution_count": 47,
     "metadata": {},
     "output_type": "execute_result"
    }
   ],
   "source": [
    "arr[1,-1]"
   ]
  },
  {
   "cell_type": "code",
   "execution_count": 57,
   "id": "22332c97-12e8-4dd6-b32a-1150f8b52123",
   "metadata": {},
   "outputs": [
    {
     "data": {
      "text/plain": [
       "array([[2, 3],\n",
       "       [5, 6]])"
      ]
     },
     "execution_count": 57,
     "metadata": {},
     "output_type": "execute_result"
    }
   ],
   "source": [
    "arr[0:2,1:3]"
   ]
  },
  {
   "cell_type": "code",
   "execution_count": 78,
   "id": "9a77bb60-2257-46fd-9b9f-87eb606bb0b5",
   "metadata": {},
   "outputs": [
    {
     "name": "stdout",
     "output_type": "stream",
     "text": [
      "[ 9 11 13 15]\n",
      "[14 24 36 50]\n"
     ]
    }
   ],
   "source": [
    "a1=np.array([2,3,4,5])\n",
    "a2=np.array([7,8,9,10])\n",
    "print(a1+a2)\n",
    "print(a1*a2)"
   ]
  },
  {
   "cell_type": "code",
   "execution_count": 84,
   "id": "ba531d50-e41a-42b4-aeb3-3429de436f45",
   "metadata": {},
   "outputs": [],
   "source": [
    "a1=np.array([[1,2,3],[4,5,6],[7,8,9]])\n",
    "a2=np.array([[10,11,12],[13,14,15],[16,17,18]])\n"
   ]
  },
  {
   "cell_type": "code",
   "execution_count": 116,
   "id": "c6ae2b52-2689-4ef6-9c57-13cb23c9c7b5",
   "metadata": {},
   "outputs": [
    {
     "name": "stdout",
     "output_type": "stream",
     "text": [
      "[[ 84  90  96]\n",
      " [201 216 231]\n",
      " [318 342 366]]\n"
     ]
    }
   ],
   "source": [
    "print(np.dot(a1,a2)) #Matrix multiplication"
   ]
  },
  {
   "cell_type": "code",
   "execution_count": 92,
   "id": "11e52c8b-7ddf-40e8-ba83-bb90b8b760fc",
   "metadata": {},
   "outputs": [
    {
     "data": {
      "text/plain": [
       "[<matplotlib.lines.Line2D at 0x1d742ffd3a0>,\n",
       " <matplotlib.lines.Line2D at 0x1d742f447a0>,\n",
       " <matplotlib.lines.Line2D at 0x1d743035130>]"
      ]
     },
     "execution_count": 92,
     "metadata": {},
     "output_type": "execute_result"
    },
    {
     "data": {
      "image/png": "[encoded data removed]",
      "text/plain": [
       "<Figure size 640x480 with 1 Axes>"
      ]
     },
     "metadata": {},
     "output_type": "display_data"
    }
   ],
   "source": [
    "\n",
    "import matplotlib.pyplot as plt\n",
    "plt.plot(np.dot(a1,a2))"
   ]
  },
  {
   "cell_type": "code",
   "execution_count": 100,
   "id": "dd505d56-f37c-443c-8b50-e81870daf304",
   "metadata": {},
   "outputs": [
    {
     "name": "stdout",
     "output_type": "stream",
     "text": [
      "[2.20264658e+04 4.85165195e+08 1.06864746e+13]\n"
     ]
    }
   ],
   "source": [
    "#Exopential\n",
    "arr=np.array([10,20,30])\n",
    "print(np.exp(arr))"
   ]
  },
  {
   "cell_type": "code",
   "execution_count": 102,
   "id": "a45a9e3a-69d5-46b6-b259-e71bcf20178d",
   "metadata": {},
   "outputs": [
    {
     "name": "stdout",
     "output_type": "stream",
     "text": [
      "[100 400 900]\n"
     ]
    }
   ],
   "source": [
    "print(np.square(arr))"
   ]
  },
  {
   "cell_type": "code",
   "execution_count": 104,
   "id": "bef21b56-c497-4bb6-83b1-f892f1c71b93",
   "metadata": {},
   "outputs": [
    {
     "name": "stdout",
     "output_type": "stream",
     "text": [
      "Sum: 60\n",
      "Mean: 20.0\n",
      "Standard Deviation: 8.16496580927726\n",
      "Max: 30\n",
      "Min: 10\n"
     ]
    }
   ],
   "source": [
    "print(\"Sum:\",np.sum(arr))\n",
    "print(\"Mean:\",np.mean(arr))\n",
    "print(\"Standard Deviation:\",np.std(arr))\n",
    "print(\"Max:\",np.max(arr))\n",
    "print(\"Min:\",np.min(arr))"
   ]
  },
  {
   "cell_type": "code",
   "execution_count": 106,
   "id": "dd6d31ba-ccd0-470a-a8d3-fddeb39387fb",
   "metadata": {},
   "outputs": [
    {
     "name": "stdout",
     "output_type": "stream",
     "text": [
      "[[1 2 3]\n",
      " [4 5 6]]\n"
     ]
    }
   ],
   "source": [
    "arr=np.array([1,2,3,4,5,6])\n",
    "reshape=arr.reshape(2,3)\n",
    "print(reshape)"
   ]
  },
  {
   "cell_type": "code",
   "execution_count": 108,
   "id": "5608e2a7-b10f-4848-8242-c55d119f7bbc",
   "metadata": {},
   "outputs": [
    {
     "name": "stdout",
     "output_type": "stream",
     "text": [
      "[[1 2]\n",
      " [3 4]]\n",
      "[1 2 3 4]\n"
     ]
    }
   ],
   "source": [
    "#Stacking\n",
    "a=np.array([1,2])\n",
    "b=np.array([3,4])\n",
    "#Vertical Stack\n",
    "print(np.vstack((a,b)))\n",
    "#Horizontal Stack\n",
    "print(np.hstack((a,b)))"
   ]
  },
  {
   "cell_type": "code",
   "execution_count": 110,
   "id": "15831212-359b-4418-9f5a-3297496e2211",
   "metadata": {},
   "outputs": [
    {
     "name": "stdout",
     "output_type": "stream",
     "text": [
      "[array([1, 2]), array([3, 4]), array([5, 6])]\n"
     ]
    }
   ],
   "source": [
    "# Splitting\n",
    "arr = np.array([1,2,3,4,5,6])\n",
    "# split into 3 parts\n",
    "print(np.array_split(arr,3))"
   ]
  },
  {
   "cell_type": "code",
   "execution_count": 112,
   "id": "59fc7e98-3e53-4652-ad65-9be6388c5468",
   "metadata": {},
   "outputs": [
    {
     "name": "stdout",
     "output_type": "stream",
     "text": [
      "[10  2  3]\n"
     ]
    }
   ],
   "source": [
    "# Copy vs View\n",
    "#View shares memory\n",
    "arr=np.array([1,2,3])\n",
    "view=arr.view()\n",
    "view[0]=10\n",
    "print(arr)"
   ]
  },
  {
   "cell_type": "code",
   "execution_count": 114,
   "id": "341d3708-a2ba-4524-b5c8-6358ffbe3e0a",
   "metadata": {},
   "outputs": [
    {
     "name": "stdout",
     "output_type": "stream",
     "text": [
      "[10  2  3]\n"
     ]
    }
   ],
   "source": [
    "# Copy doee not share memory\n",
    "copy=arr.copy()\n",
    "copy[0]=100\n",
    "print(arr)"
   ]
  },
  {
   "cell_type": "code",
   "execution_count": 118,
   "id": "c6fcc42c-861f-4074-94ae-eba9bfeca5ab",
   "metadata": {},
   "outputs": [],
   "source": [
    " # Saving and Loading\n",
    "arr = np.array([1,2,3])\n",
    "np.save('array.npy',arr)"
   ]
  },
  {
   "cell_type": "code",
   "execution_count": 120,
   "id": "aad87034-fb11-4f5b-b7ed-ef3995f2ff58",
   "metadata": {},
   "outputs": [
    {
     "name": "stdout",
     "output_type": "stream",
     "text": [
      "[1 2 3]\n"
     ]
    }
   ],
   "source": [
    "#loading \n",
    "loaded_arr=np.load('array.npy')\n",
    "print(loaded_arr)"
   ]
  },
  {
   "cell_type": "code",
   "execution_count": null,
   "id": "2e38b330-7601-4821-9b04-627f76400c7e",
   "metadata": {},
   "outputs": [],
   "source": []
  }
 ],
 "metadata": {
  "kernelspec": {
   "display_name": "Python [conda env:base] *",
   "language": "python",
   "name": "conda-base-py"
  },
  "language_info": {
   "codemirror_mode": {
    "name": "ipython",
    "version": 3
   },
   "file_extension": ".py",
   "mimetype": "text/x-python",
   "name": "python",
   "nbconvert_exporter": "python",
   "pygments_lexer": "ipython3",
   "version": "3.12.7"
  }
 },
 "nbformat": 4,
 "nbformat_minor": 5
}
