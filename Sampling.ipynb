{
 "cells": [
  {
   "cell_type": "markdown",
   "id": "11a1aaa7-5fae-40ee-ac1a-2cba4438939b",
   "metadata": {},
   "source": [
    "**<ins>Balancing a Dataset with Downsampling</ins>**\n",
    "   \n",
    "   \n",
    "   Imagine we have a dataset for a binary classification task where the class labels are imbalanced,and we want to downsample the majority class \n",
    "to balance the dataset\n"
   ]
  },
  {
   "cell_type": "code",
   "execution_count": 3,
   "id": "091874a1-82fd-40b6-b03c-34b5f26833ed",
   "metadata": {},
   "outputs": [],
   "source": [
    "import pandas as pd\n",
    "from sklearn.utils import resample"
   ]
  },
  {
   "cell_type": "code",
   "execution_count": 7,
   "id": "8bbd0b90-b965-46da-bc38-eed9afa1cf65",
   "metadata": {},
   "outputs": [],
   "source": [
    "df = pd.DataFrame({\n",
    "    'Age':[22,25,27,28,30,35,40,45,50,55,60,65,70],\n",
    "    'Income':[2000,2500,2700,3200,3500,3800,4000,4200,4500,5000,5500,6000,6500],\n",
    "    'Class':['High','Low','Low','High','High','Low','High','High','Low','Low','High','High','Low']\n",
    "})"
   ]
  },
  {
   "cell_type": "markdown",
   "id": "faea3f3c-dfc6-4856-962e-6e1850b62015",
   "metadata": {},
   "source": [
    "High class has 7 instances\n",
    "\n",
    "Low class has 6 instances"
   ]
  },
  {
   "cell_type": "code",
   "execution_count": 36,
   "id": "4b6fdaf5-6e1d-47fd-94a1-975a046b1a94",
   "metadata": {},
   "outputs": [
    {
     "name": "stdout",
     "output_type": "stream",
     "text": [
      "    Age  Income Class\n",
      "1    25    2500   Low\n",
      "2    27    2700   Low\n",
      "5    35    3800   Low\n",
      "8    50    4500   Low\n",
      "9    55    5000   Low\n",
      "12   70    6500   Low\n",
      "    Age  Income Class\n",
      "0    22    2000  High\n",
      "3    28    3200  High\n",
      "4    30    3500  High\n",
      "6    40    4000  High\n",
      "7    45    4200  High\n",
      "10   60    5500  High\n",
      "11   65    6000  High\n"
     ]
    }
   ],
   "source": [
    "\n",
    "#Separate majority and minority classes\n",
    "df_high = df[df['Class'] == 'High']\n",
    "df_low = df[df['Class'] == 'Low']\n",
    "print(df_low)\n",
    "print(df_high)"
   ]
  },
  {
   "cell_type": "code",
   "execution_count": 22,
   "id": "4eb458cc-5e04-4703-afd8-b3c4d9d0f347",
   "metadata": {},
   "outputs": [],
   "source": [
    "#Downsample majority class\n",
    "df_high_downsample = resample(df_high,replace=False,n_samples=len(df_low),random_state=42)"
   ]
  },
  {
   "cell_type": "code",
   "execution_count": 40,
   "id": "add1b800-0b8e-4850-9714-b29a32587899",
   "metadata": {},
   "outputs": [
    {
     "name": "stdout",
     "output_type": "stream",
     "text": [
      "Class\n",
      "High    6\n",
      "Low     6\n",
      "Name: count, dtype: int64\n"
     ]
    }
   ],
   "source": [
    "# Combine downsample majority with minority class\n",
    "df_balanced = pd.concat([df_high_downsample , df_low])\n",
    "print(df_balanced['Class'].value_counts())"
   ]
  },
  {
   "cell_type": "markdown",
   "id": "96cf633c-88e5-4d35-943d-3aaf6830501a",
   "metadata": {},
   "source": [
    "<b> Upsampling the Minority class</b>"
   ]
  },
  {
   "cell_type": "markdown",
   "id": "430053e5-9a03-4c68-ac3e-ea454b576acf",
   "metadata": {},
   "source": [
    "Let's use a dataset with a binary classification task where the minority class has fewer instances than the majority class, and we will perform upsampling on the minority class"
   ]
  },
  {
   "cell_type": "code",
   "execution_count": 56,
   "id": "e943d69c-d21b-4b1f-b6da-22a412dcec68",
   "metadata": {},
   "outputs": [],
   "source": [
    "df = pd.DataFrame({\n",
    "    'Age':[22,25,27,28,30,35,40,45,50,55,60,65,70],\n",
    "    'Income':[2000,2500,2700,3200,3500,3800,4000,4200,4500,5000,5500,6000,6500],\n",
    "    'Class':['Minority','Majority','Majority','Majority','Majority','Minority','Minority','Minority','Majority','Majority','Majority','Majority','Majority']\n",
    "})"
   ]
  },
  {
   "cell_type": "markdown",
   "id": "a4578bae-245d-4e18-ae74-299a5c1ceb00",
   "metadata": {},
   "source": [
    "Majority class has 9 instances\n",
    "\n",
    "Minority class has 4 instances"
   ]
  },
  {
   "cell_type": "code",
   "execution_count": 61,
   "id": "de3c680f-1cbb-4379-943f-1777774ef3fe",
   "metadata": {},
   "outputs": [
    {
     "name": "stdout",
     "output_type": "stream",
     "text": [
      "    Age  Income     Class\n",
      "1    25    2500  Majority\n",
      "2    27    2700  Majority\n",
      "3    28    3200  Majority\n",
      "4    30    3500  Majority\n",
      "8    50    4500  Majority\n",
      "9    55    5000  Majority\n",
      "10   60    5500  Majority\n",
      "11   65    6000  Majority\n",
      "12   70    6500  Majority\n",
      "   Age  Income     Class\n",
      "0   22    2000  Minority\n",
      "5   35    3800  Minority\n",
      "6   40    4000  Minority\n",
      "7   45    4200  Minority\n"
     ]
    }
   ],
   "source": [
    "# Separate majority and minority classes\n",
    "df_majority = df[df['Class'] == 'Majority']\n",
    "df_minority = df[df['Class'] == 'Minority']\n",
    "print(df_majority)\n",
    "print(df_minority)"
   ]
  },
  {
   "cell_type": "code",
   "execution_count": 73,
   "id": "7d007010-a917-4d32-b865-38eaf25c94bd",
   "metadata": {},
   "outputs": [],
   "source": [
    "#Upsample minority class\n",
    "df_minority_upsampled = resample(df_minority,replace=True,n_samples=len(df_majority),random_state=42)"
   ]
  },
  {
   "cell_type": "code",
   "execution_count": 75,
   "id": "2374066d-d73f-438c-a0af-a266a03fe758",
   "metadata": {},
   "outputs": [],
   "source": [
    "# Combine upsampled minority with majority class\n",
    "df_balanced = pd.concat([df_majority,df_minority_upsampled])"
   ]
  },
  {
   "cell_type": "code",
   "execution_count": 77,
   "id": "6fac4f01-d087-41a9-b146-511c482a77dd",
   "metadata": {},
   "outputs": [
    {
     "name": "stdout",
     "output_type": "stream",
     "text": [
      "Class\n",
      "Majority    9\n",
      "Minority    9\n",
      "Name: count, dtype: int64\n"
     ]
    }
   ],
   "source": [
    "print(df_balanced['Class'].value_counts())"
   ]
  },
  {
   "cell_type": "markdown",
   "id": "fd0892c8-af8c-488e-b59c-ae3624da2108",
   "metadata": {},
   "source": [
    "SMOTE(Synthetic Minority Over-sampling Technique) to balance the dataset.SMOTE generates synthetic examples rather than simply duplicating existing ones."
   ]
  },
  {
   "cell_type": "code",
   "execution_count": 80,
   "id": "21f1cb85-2c96-4b6c-83ef-628a3cda2c75",
   "metadata": {},
   "outputs": [
    {
     "name": "stdout",
     "output_type": "stream",
     "text": [
      "Requirement already satisfied: imbalanced-learn in c:\\users\\proxy1\\anaconda3\\lib\\site-packages (0.12.3)\n",
      "Requirement already satisfied: numpy>=1.17.3 in c:\\users\\proxy1\\anaconda3\\lib\\site-packages (from imbalanced-learn) (1.26.4)\n",
      "Requirement already satisfied: scipy>=1.5.0 in c:\\users\\proxy1\\anaconda3\\lib\\site-packages (from imbalanced-learn) (1.13.1)\n",
      "Requirement already satisfied: scikit-learn>=1.0.2 in c:\\users\\proxy1\\anaconda3\\lib\\site-packages (from imbalanced-learn) (1.5.1)\n",
      "Requirement already satisfied: joblib>=1.1.1 in c:\\users\\proxy1\\anaconda3\\lib\\site-packages (from imbalanced-learn) (1.4.2)\n",
      "Requirement already satisfied: threadpoolctl>=2.0.0 in c:\\users\\proxy1\\anaconda3\\lib\\site-packages (from imbalanced-learn) (3.5.0)\n",
      "Note: you may need to restart the kernel to use updated packages.\n"
     ]
    }
   ],
   "source": [
    "pip install imbalanced-learn"
   ]
  },
  {
   "cell_type": "markdown",
   "id": "2b41c4f8-4ab6-4aff-b19c-54785cd224fa",
   "metadata": {},
   "source": [
    "1.SMOTE to generate synthetic samples instead of duplicationg existing ones.\n",
    "\n",
    "\n",
    "2.Convert categorical class labels into numeric from for SMOTE to work.\n",
    "\n",
    "\n",
    "3.Apply SMOTE to balance the dataset.\n",
    "\n",
    "\n",
    "4.Convert back to original categorical labels.\n",
    "\n",
    "\n",
    "5.Combine the resampled data into a final balanced datset"
   ]
  },
  {
   "cell_type": "code",
   "execution_count": 84,
   "id": "5fe4b433-11ad-4338-b5c0-943710500a90",
   "metadata": {},
   "outputs": [],
   "source": [
    "import pandas as pd\n",
    "from imblearn.over_sampling import SMOTE"
   ]
  },
  {
   "cell_type": "code",
   "execution_count": 92,
   "id": "b0079b2f-8374-4e4d-b137-1348e9381154",
   "metadata": {},
   "outputs": [],
   "source": [
    "df = pd.DataFrame({\n",
    "    'Age':[22,25,27,28,30,35,40,45,50,55,60,65,70],\n",
    "    'Income':[2000,2500,2700,3200,3500,3800,4000,4200,4500,5000,5500,6000,6500],\n",
    "    'Class':['Minority','Majority','Majority','Majority','Majority','Minority','Minority','Minority','Majority','Majority','Majority','Majority','Majority']\n",
    "})"
   ]
  },
  {
   "cell_type": "code",
   "execution_count": 94,
   "id": "0e2e2e0c-2883-45a5-9756-d974308c820c",
   "metadata": {},
   "outputs": [
    {
     "name": "stdout",
     "output_type": "stream",
     "text": [
      "Class\n",
      "Minority    9\n",
      "Majority    9\n",
      "Name: count, dtype: int64\n",
      "    Age  Income     Class\n",
      "0    22    2000  Minority\n",
      "1    25    2500  Majority\n",
      "2    27    2700  Majority\n",
      "3    28    3200  Majority\n",
      "4    30    3500  Majority\n",
      "5    35    3800  Minority\n",
      "6    40    4000  Minority\n",
      "7    45    4200  Minority\n",
      "8    50    4500  Majority\n",
      "9    55    5000  Majority\n",
      "10   60    5500  Majority\n",
      "11   65    6000  Majority\n",
      "12   70    6500  Majority\n",
      "13   40    4031  Minority\n",
      "14   35    3831  Minority\n",
      "15   44    4176  Minority\n",
      "16   35    3826  Minority\n",
      "17   41    4040  Minority\n"
     ]
    }
   ],
   "source": [
    "#Step 1: Convert categorical labels to numerical values\n",
    "df['Class'] = df['Class'].map({'Majority':0,'Minority':1})\n",
    "\n",
    "#Step2 : Split features(x) and target variable(y)\n",
    "X = df[['Age','Income']]\n",
    "Y = df['Class']\n",
    "\n",
    "#Step 3 : Apply SMOTE with k_neighbors=3(reducing from default 5)\n",
    "smote = SMOTE(sampling_strategy='auto',random_state=42,k_neighbors=3)\n",
    "X_resampled,Y_resampled = smote.fit_resample(X,Y)\n",
    "\n",
    "#Step 4 : Convert numeric labels back to categorical\n",
    "Y_resampled = Y_resampled.map({0: 'Majority',1: 'Minority'})\n",
    "\n",
    "#Step 5 : Combine the resampled dataset\n",
    "df_balanced = pd.concat([pd.DataFrame(X_resampled,columns=['Age','Income']),pd.DataFrame(Y_resampled,columns=['Class'])],axis=1)\n",
    "\n",
    "#Step 6 : Print class distribution\n",
    "print(df_balanced['Class'].value_counts())\n",
    "\n",
    "#Step 7 : Display the upsampled dataset\n",
    "print(df_balanced)"
   ]
  },
  {
   "cell_type": "code",
   "execution_count": null,
   "id": "eccd4ea2-d1da-422b-9089-5a61b050de1c",
   "metadata": {},
   "outputs": [],
   "source": []
  }
 ],
 "metadata": {
  "kernelspec": {
   "display_name": "Python [conda env:base] *",
   "language": "python",
   "name": "conda-base-py"
  },
  "language_info": {
   "codemirror_mode": {
    "name": "ipython",
    "version": 3
   },
   "file_extension": ".py",
   "mimetype": "text/x-python",
   "name": "python",
   "nbconvert_exporter": "python",
   "pygments_lexer": "ipython3",
   "version": "3.12.7"
  }
 },
 "nbformat": 4,
 "nbformat_minor": 5
}
